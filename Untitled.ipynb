{
 "cells": [
  {
   "cell_type": "markdown",
   "metadata": {},
   "source": [
    "# Creating a Recommender System for Airbnb to Enhance User Experience and  Retention and Boost Business"
   ]
  },
  {
   "cell_type": "markdown",
   "metadata": {},
   "source": [
    "GROUP 2\n",
    "*  > Mercy Onduso\n",
    "*  > Nurulain Abdi\n",
    "*  > Amos Kibet\n",
    "*  > Beth Mithamo"
   ]
  },
  {
   "cell_type": "markdown",
   "metadata": {},
   "source": [
    "# Overview\n",
    "\n",
    "Airbnb is a global online marketplace that offers housing and other accommodations to travelers. The platform has grown significantly in popularity over the years, with millions of hosts and guests using the platform for their travel needs.\n",
    "\n",
    "\n",
    "The aim of this project is to create a recommender system that will help stakeholders and clients have a better strategy in decision making. The system will also help stakeholders do proper renovations of their listings efficiently without inconveniencing their clients.\n"
   ]
  },
  {
   "cell_type": "markdown",
   "metadata": {},
   "source": [
    "# Business Problem \n",
    "\n",
    "Airbnb has become a popular alternative to traditional hotels for tourists and visitors in Cape Town, South Africa. However, despite its many advantages, users often face several challenges when using the platform. These include poor recommendations, unreliable pricing, and subpar customer experience. Moreover, stakeholders often struggle to renovate their listings to meet the needs of their target customers.\n",
    "A South-Africa based housing company wants to venture into the Airbnb business and needs to create a sustainable and profitable business model that can compete with established players in the market. The company's stakeholders aims at ensuring customer retention,customer satisfaction and boost their business as a new party entity in the Airbnb Platform.  As Data Scientists, we are expected to address questions as well as provide recommendations.\n",
    "\n",
    "Some of the questions we are expected to answer are:\n",
    "1. What is the best month to visit Cape Town if you are on a budget?\n",
    "2. What is the best time to list your property on Airbnb? And how do set price rates according to the time of the year?\n",
    "3. What is the best time in the year when owners can take down their listing for maintenance and repair?\n",
    "4. When is the best time to lure clients with offers in the case of an upcoming low season: Time series analysis\n"
   ]
  },
  {
   "cell_type": "markdown",
   "metadata": {},
   "source": [
    "# Data\n",
    "\n",
    "We extracted the data from InsideAirbnb which has data from the Airbnb platform. The link to the dataset is provided here: \"http://insideairbnb.com/get-the-data/\"\n",
    "\n",
    "The data from the Airbnb app provides insights into the availability, pricing, and characteristics of short-term rental properties, such as apartments, houses, and rooms. The data can be used to understand the demand and supply dynamics in the market, as well as the preferences of guests and hosts. The data can also help identify trends and patterns in guest behavior, such as popular locations, amenities, and property types. Additionally, the data will be used in the development of a recommender systems that can make personalized recommendations to guests based on their preferences and past behavior. This will help both stakeholders and their clients have better strategies during decision making.\n"
   ]
  },
  {
   "cell_type": "markdown",
   "metadata": {},
   "source": [
    "# Airbnb Exploration\n",
    "\n",
    "*  Who needs the Recommender System? The Host- A South Africa-based Housing Company \n",
    "*  Which technologies does the Airbnb platform use in providing recommendations as of now? Cookies, Mobile Identifiers, Tracking URLs, log data.\n",
    "* Airbnb uses two machine learning models in predicting prices for clients: Smart Pricing and Price Tips. \n",
    "\n"
   ]
  },
  {
   "cell_type": "markdown",
   "metadata": {},
   "source": [
    "# Possible Algorithms \n",
    "\n",
    "1. Collaborative Filtering: This algorithm is based on the idea that people who have similar preferences in the past are likely to have similar preferences in the future. Collaborative filtering can be further divided into two types: user-based and item-based. In user-based collaborative filtering, recommendations are made based on the preferences of similar users. In item-based collaborative filtering, recommendations are made based on the similarity between items.\n",
    "\n",
    "2. Content-Based Filtering: This algorithm is based on the idea that recommendations can be made based on the characteristics of the items being recommended. For example, if a user has shown a preference for properties with a specific location or amenities, a content-based filtering algorithm can recommend similar properties based on these characteristics.\n",
    "\n",
    "3. Matrix Factorization: This algorithm is based on the idea that the preferences of users and items can be represented in a lower-dimensional space. Matrix factorization algorithms try to find latent factors that explain the observed preferences of users and items, and use these factors to make recommendations.\n",
    "\n",
    "4. Hybrid Algorithms: Hybrid algorithms combine two or more recommendation techniques to make more accurate and diverse recommendations. For example, a hybrid algorithm could combine collaborative filtering and content-based filtering to provide a more personalized and diverse set of recommendations.\n",
    "\n"
   ]
  },
  {
   "cell_type": "code",
   "execution_count": null,
   "metadata": {},
   "outputs": [],
   "source": [
    "import pandas as pd"
   ]
  },
  {
   "cell_type": "code",
   "execution_count": null,
   "metadata": {},
   "outputs": [],
   "source": [
    "data = pd.read_csv(\"E:\\Data Science\\DATA\\listings.csv\")\n",
    "data.head()"
   ]
  },
  {
   "cell_type": "code",
   "execution_count": null,
   "metadata": {},
   "outputs": [],
   "source": [
    "data.info()"
   ]
  },
  {
   "cell_type": "code",
   "execution_count": null,
   "metadata": {},
   "outputs": [],
   "source": [
    "import pandas as pd\n",
    "\n",
    "data = pd.read_csv(\"E:\\Data Science\\DATA\\listings.csv\")\n",
    "data.head()\n",
    "\n",
    "data.info()\n",
    "\n",
    "data.describe()\n",
    "\n",
    "data.isnull().sum()\n",
    "\n",
    "data.nunique()\n",
    "\n",
    "# Data Understanding\n",
    "\n"
   ]
  }
 ],
 "metadata": {
  "kernelspec": {
   "display_name": "Python (learn-env)",
   "language": "python",
   "name": "learn-env"
  },
  "language_info": {
   "codemirror_mode": {
    "name": "ipython",
    "version": 3
   },
   "file_extension": ".py",
   "mimetype": "text/x-python",
   "name": "python",
   "nbconvert_exporter": "python",
   "pygments_lexer": "ipython3",
   "version": "3.8.5"
  }
 },
 "nbformat": 4,
 "nbformat_minor": 4
}
