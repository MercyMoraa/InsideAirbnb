{
 "cells": [
  {
   "cell_type": "markdown",
   "metadata": {},
   "source": [
    "# Revolutionize your Airbnb Business in Cape Town with a Cutting-Edge Recommender System"
   ]
  },
  {
   "cell_type": "markdown",
   "metadata": {},
   "source": [
    "#### Group 2 - Collaborators\n",
    "> * Mercy Onduso\n",
    "> * Nurulain Abdi\n",
    "> * Amos Kibet\n",
    "> * Beth Mithamo"
   ]
  },
  {
   "cell_type": "markdown",
   "metadata": {},
   "source": [
    "# Overview\n",
    "\n",
    "Airbnb is a global online marketplace that offers housing and other accommodations to travelers. The platform has grown significantly in popularity over the years, with millions of hosts and guests using the platform for their travel needs.\n",
    "\n",
    "\n",
    "The aim of this project is to create a recommender system that will help stakeholders and clients have a better strategy in decision making. The system will also help stakeholders do proper renovations of their listings efficiently without inconveniencing their clients.\n"
   ]
  },
  {
   "cell_type": "markdown",
   "metadata": {},
   "source": [
    "# Business Problem \n",
    "\n",
    "Airbnb has become a popular alternative to traditional hotels for tourists and visitors in Cape Town, South Africa. However, despite its many advantages, users often face several challenges when using the platform. These include poor recommendations, unreliable pricing, and subpar customer experience. Moreover, stakeholders often struggle to renovate their listings to meet the needs of their target customers.\n",
    "A South-Africa based housing company wants to venture into the Airbnb business and needs to create a sustainable and profitable business model that can compete with established players in the market. The company's stakeholders aims at ensuring customer retention,customer satisfaction and boost their business as a new party entity in the Airbnb Platform.  As Data Scientists, we are expected to address questions as well as provide recommendations.\n",
    "\n",
    "Some of the questions we are expected to answer are:\n",
    "1. What is the best month to visit Cape Town if you are on a budget?\n",
    "2. What is the best time to list your property on Airbnb? And how do set price rates according to the time of the year?\n",
    "3. What is the best time in the year when owners can take down their listing for maintenance and repair?\n",
    "4. When is the best time to lure clients with offers in the case of an upcoming low season: Time series analysis\n"
   ]
  },
  {
   "cell_type": "markdown",
   "metadata": {},
   "source": [
    "# Data\n",
    "\n",
    "We extracted the data from InsideAirbnb which has data from the Airbnb platform. The link to the dataset is provided here: \"http://insideairbnb.com/get-the-data/\"\n",
    "\n",
    "The data from the Airbnb app provides insights into the availability, pricing, and characteristics of short-term rental properties, such as apartments, houses, and rooms. The data can be used to understand the demand and supply dynamics in the market, as well as the preferences of guests and hosts. The data can also help identify trends and patterns in guest behavior, such as popular locations, amenities, and property types. Additionally, the data will be used in the development of a recommender systems that can make personalized recommendations to guests based on their preferences and past behavior. This will help both stakeholders and their clients have better strategies during decision making.\n"
   ]
  },
  {
   "cell_type": "markdown",
   "metadata": {},
   "source": [
    "# Airbnb Exploration\n",
    "\n",
    "*  Who needs the Recommender System? The Host- A South Africa-based Housing Company \n",
    "*  Which technologies does the Airbnb platform use in providing recommendations as of now? Cookies, Mobile Identifiers, Tracking URLs, log data.\n",
    "* Airbnb uses two machine learning models in predicting prices for clients: Smart Pricing and Price Tips. \n",
    "\n"
   ]
  },
  {
   "cell_type": "markdown",
   "metadata": {},
   "source": [
    "# Possible Algorithms \n",
    "\n",
    "1. Collaborative Filtering: This algorithm is based on the idea that people who have similar preferences in the past are likely to have similar preferences in the future. Collaborative filtering can be further divided into two types: user-based and item-based. In user-based collaborative filtering, recommendations are made based on the preferences of similar users. In item-based collaborative filtering, recommendations are made based on the similarity between items.\n",
    "\n",
    "2. Content-Based Filtering: This algorithm is based on the idea that recommendations can be made based on the characteristics of the items being recommended. For example, if a user has shown a preference for properties with a specific location or amenities, a content-based filtering algorithm can recommend similar properties based on these characteristics.\n",
    "\n",
    "3. Matrix Factorization: This algorithm is based on the idea that the preferences of users and items can be represented in a lower-dimensional space. Matrix factorization algorithms try to find latent factors that explain the observed preferences of users and items, and use these factors to make recommendations.\n",
    "\n",
    "4. Hybrid Algorithms: Hybrid algorithms combine two or more recommendation techniques to make more accurate and diverse recommendations. For example, a hybrid algorithm could combine collaborative filtering and content-based filtering to provide a more personalized and diverse set of recommendations.\n",
    "\n"
   ]
  },
  {
   "cell_type": "markdown",
   "metadata": {},
   "source": [
    "# Data Understanding and cleaning\n",
    "\n",
    "The data contains distinct features that will help in the anaysis and prediction. These are:\n",
    "1. 'id' : The unique identifier for the clients\n",
    "2. 'name' : The name of the hotel/apartment\n",
    "3. 'host_id' :  The unique identifier for the various hosts\n",
    "4. 'host_name' : The name of the host\n",
    "5. 'neighbourhood_group': The area where the apartment/hotel is geographically located\n",
    "6.  'neighbourhood' : Name of the neighbourhood\n",
    "7.  'latitude' and  'longitude' : The exact geographical location\n",
    "8.  'room_type' : The type of room, whether it was a single private room or an entire apartment\n",
    "9.  'price' : The price \n",
    "10. 'minimum_nights' : Minimum night spent by clients\n",
    "11. 'number_of_reviews': Number of reviews from the clients\n",
    "12. 'last_review': When the last review was\n",
    "13. 'reviews_per_month'\n",
    "14. 'calculated_host_listings_count',\n",
    "15. 'availability_365', \n",
    "16. 'number_of_reviews_ltm',\n",
    "17. 'license'\n"
   ]
  },
  {
   "cell_type": "code",
   "execution_count": 1,
   "metadata": {},
   "outputs": [],
   "source": [
    "#import libraries\n",
    "import pandas as pd\n",
    "import numpy as np\n",
    "import matplotlib.pyplot as plt\n",
    "import seaborn as sns\n",
    "\n",
    "\n",
    "import warnings\n",
    "warnings.filterwarnings('ignore')"
   ]
  },
  {
   "cell_type": "code",
   "execution_count": 2,
   "metadata": {
    "scrolled": true
   },
   "outputs": [
    {
     "name": "stdout",
     "output_type": "stream",
     "text": [
      "Dataset shape: (9481, 75)\n"
     ]
    },
    {
     "data": {
      "text/html": [
       "<div>\n",
       "<style scoped>\n",
       "    .dataframe tbody tr th:only-of-type {\n",
       "        vertical-align: middle;\n",
       "    }\n",
       "\n",
       "    .dataframe tbody tr th {\n",
       "        vertical-align: top;\n",
       "    }\n",
       "\n",
       "    .dataframe thead th {\n",
       "        text-align: right;\n",
       "    }\n",
       "</style>\n",
       "<table border=\"1\" class=\"dataframe\">\n",
       "  <thead>\n",
       "    <tr style=\"text-align: right;\">\n",
       "      <th></th>\n",
       "      <th>id</th>\n",
       "      <th>listing_url</th>\n",
       "      <th>scrape_id</th>\n",
       "      <th>last_scraped</th>\n",
       "      <th>source</th>\n",
       "      <th>name</th>\n",
       "      <th>description</th>\n",
       "      <th>neighborhood_overview</th>\n",
       "      <th>picture_url</th>\n",
       "      <th>host_id</th>\n",
       "      <th>...</th>\n",
       "      <th>review_scores_communication</th>\n",
       "      <th>review_scores_location</th>\n",
       "      <th>review_scores_value</th>\n",
       "      <th>license</th>\n",
       "      <th>instant_bookable</th>\n",
       "      <th>calculated_host_listings_count</th>\n",
       "      <th>calculated_host_listings_count_entire_homes</th>\n",
       "      <th>calculated_host_listings_count_private_rooms</th>\n",
       "      <th>calculated_host_listings_count_shared_rooms</th>\n",
       "      <th>reviews_per_month</th>\n",
       "    </tr>\n",
       "  </thead>\n",
       "  <tbody>\n",
       "    <tr>\n",
       "      <th>0</th>\n",
       "      <td>1625734</td>\n",
       "      <td>https://www.airbnb.com/rooms/1625734</td>\n",
       "      <td>2.022120e+13</td>\n",
       "      <td>12/29/2022</td>\n",
       "      <td>city scrape</td>\n",
       "      <td>Fabulous Villa, Large Entertainment Area Patio...</td>\n",
       "      <td>You will love this fabulous Villa! Expansive l...</td>\n",
       "      <td>Located next to the Constantia Wine Lands home...</td>\n",
       "      <td>https://a0.muscache.com/pictures/ca9e8f0f-d55a...</td>\n",
       "      <td>8643899</td>\n",
       "      <td>...</td>\n",
       "      <td>5.00</td>\n",
       "      <td>5.00</td>\n",
       "      <td>5.00</td>\n",
       "      <td>NaN</td>\n",
       "      <td>f</td>\n",
       "      <td>4</td>\n",
       "      <td>3</td>\n",
       "      <td>1</td>\n",
       "      <td>0</td>\n",
       "      <td>0.10</td>\n",
       "    </tr>\n",
       "    <tr>\n",
       "      <th>1</th>\n",
       "      <td>1626659</td>\n",
       "      <td>https://www.airbnb.com/rooms/1626659</td>\n",
       "      <td>2.022120e+13</td>\n",
       "      <td>12/29/2022</td>\n",
       "      <td>city scrape</td>\n",
       "      <td>Big Bay La Paloma - 2 bedroom suite</td>\n",
       "      <td>Enjoy the beautiful Bloubergstrand ~ Cape Town...</td>\n",
       "      <td>Big Bay Homestay is situated in the the tranqu...</td>\n",
       "      <td>https://a0.muscache.com/pictures/31710939/c96e...</td>\n",
       "      <td>5646468</td>\n",
       "      <td>...</td>\n",
       "      <td>5.00</td>\n",
       "      <td>4.83</td>\n",
       "      <td>4.92</td>\n",
       "      <td>NaN</td>\n",
       "      <td>f</td>\n",
       "      <td>2</td>\n",
       "      <td>0</td>\n",
       "      <td>2</td>\n",
       "      <td>0</td>\n",
       "      <td>0.11</td>\n",
       "    </tr>\n",
       "    <tr>\n",
       "      <th>2</th>\n",
       "      <td>736534</td>\n",
       "      <td>https://www.airbnb.com/rooms/736534</td>\n",
       "      <td>2.022120e+13</td>\n",
       "      <td>12/29/2022</td>\n",
       "      <td>city scrape</td>\n",
       "      <td>Enjoy a Private Room in Chartfield Guesthouse</td>\n",
       "      <td>Awaken in a stylish private room to fresh coff...</td>\n",
       "      <td>A gem on the False Bay coastline, Kalk Bay is ...</td>\n",
       "      <td>https://a0.muscache.com/pictures/monet/Select-...</td>\n",
       "      <td>3007248</td>\n",
       "      <td>...</td>\n",
       "      <td>4.75</td>\n",
       "      <td>5.00</td>\n",
       "      <td>4.83</td>\n",
       "      <td>NaN</td>\n",
       "      <td>t</td>\n",
       "      <td>18</td>\n",
       "      <td>13</td>\n",
       "      <td>5</td>\n",
       "      <td>0</td>\n",
       "      <td>0.82</td>\n",
       "    </tr>\n",
       "    <tr>\n",
       "      <th>3</th>\n",
       "      <td>742345</td>\n",
       "      <td>https://www.airbnb.com/rooms/742345</td>\n",
       "      <td>2.022120e+13</td>\n",
       "      <td>12/30/2022</td>\n",
       "      <td>city scrape</td>\n",
       "      <td>Room with a View - Green Point</td>\n",
       "      <td>Fully furnished studio apartment with a fully ...</td>\n",
       "      <td>NaN</td>\n",
       "      <td>https://a0.muscache.com/pictures/10201360/7ea2...</td>\n",
       "      <td>3886732</td>\n",
       "      <td>...</td>\n",
       "      <td>4.00</td>\n",
       "      <td>4.33</td>\n",
       "      <td>3.83</td>\n",
       "      <td>NaN</td>\n",
       "      <td>t</td>\n",
       "      <td>80</td>\n",
       "      <td>79</td>\n",
       "      <td>1</td>\n",
       "      <td>0</td>\n",
       "      <td>0.29</td>\n",
       "    </tr>\n",
       "    <tr>\n",
       "      <th>4</th>\n",
       "      <td>3191</td>\n",
       "      <td>https://www.airbnb.com/rooms/3191</td>\n",
       "      <td>2.022120e+13</td>\n",
       "      <td>12/29/2022</td>\n",
       "      <td>city scrape</td>\n",
       "      <td>Malleson Garden Cottage</td>\n",
       "      <td>This is a lovely, separate, self-catering cott...</td>\n",
       "      <td>Mowbray is on the Southern Suburbs line, 6km (...</td>\n",
       "      <td>https://a0.muscache.com/pictures/697022/385407...</td>\n",
       "      <td>3754</td>\n",
       "      <td>...</td>\n",
       "      <td>4.96</td>\n",
       "      <td>4.75</td>\n",
       "      <td>4.79</td>\n",
       "      <td>NaN</td>\n",
       "      <td>t</td>\n",
       "      <td>1</td>\n",
       "      <td>1</td>\n",
       "      <td>0</td>\n",
       "      <td>0</td>\n",
       "      <td>0.60</td>\n",
       "    </tr>\n",
       "  </tbody>\n",
       "</table>\n",
       "<p>5 rows × 75 columns</p>\n",
       "</div>"
      ],
      "text/plain": [
       "        id                           listing_url     scrape_id last_scraped  \\\n",
       "0  1625734  https://www.airbnb.com/rooms/1625734  2.022120e+13   12/29/2022   \n",
       "1  1626659  https://www.airbnb.com/rooms/1626659  2.022120e+13   12/29/2022   \n",
       "2   736534   https://www.airbnb.com/rooms/736534  2.022120e+13   12/29/2022   \n",
       "3   742345   https://www.airbnb.com/rooms/742345  2.022120e+13   12/30/2022   \n",
       "4     3191     https://www.airbnb.com/rooms/3191  2.022120e+13   12/29/2022   \n",
       "\n",
       "        source                                               name  \\\n",
       "0  city scrape  Fabulous Villa, Large Entertainment Area Patio...   \n",
       "1  city scrape                Big Bay La Paloma - 2 bedroom suite   \n",
       "2  city scrape      Enjoy a Private Room in Chartfield Guesthouse   \n",
       "3  city scrape                     Room with a View - Green Point   \n",
       "4  city scrape                            Malleson Garden Cottage   \n",
       "\n",
       "                                         description  \\\n",
       "0  You will love this fabulous Villa! Expansive l...   \n",
       "1  Enjoy the beautiful Bloubergstrand ~ Cape Town...   \n",
       "2  Awaken in a stylish private room to fresh coff...   \n",
       "3  Fully furnished studio apartment with a fully ...   \n",
       "4  This is a lovely, separate, self-catering cott...   \n",
       "\n",
       "                               neighborhood_overview  \\\n",
       "0  Located next to the Constantia Wine Lands home...   \n",
       "1  Big Bay Homestay is situated in the the tranqu...   \n",
       "2  A gem on the False Bay coastline, Kalk Bay is ...   \n",
       "3                                                NaN   \n",
       "4  Mowbray is on the Southern Suburbs line, 6km (...   \n",
       "\n",
       "                                         picture_url  host_id  ...  \\\n",
       "0  https://a0.muscache.com/pictures/ca9e8f0f-d55a...  8643899  ...   \n",
       "1  https://a0.muscache.com/pictures/31710939/c96e...  5646468  ...   \n",
       "2  https://a0.muscache.com/pictures/monet/Select-...  3007248  ...   \n",
       "3  https://a0.muscache.com/pictures/10201360/7ea2...  3886732  ...   \n",
       "4  https://a0.muscache.com/pictures/697022/385407...     3754  ...   \n",
       "\n",
       "  review_scores_communication review_scores_location review_scores_value  \\\n",
       "0                        5.00                   5.00                5.00   \n",
       "1                        5.00                   4.83                4.92   \n",
       "2                        4.75                   5.00                4.83   \n",
       "3                        4.00                   4.33                3.83   \n",
       "4                        4.96                   4.75                4.79   \n",
       "\n",
       "  license instant_bookable calculated_host_listings_count  \\\n",
       "0     NaN                f                              4   \n",
       "1     NaN                f                              2   \n",
       "2     NaN                t                             18   \n",
       "3     NaN                t                             80   \n",
       "4     NaN                t                              1   \n",
       "\n",
       "  calculated_host_listings_count_entire_homes  \\\n",
       "0                                           3   \n",
       "1                                           0   \n",
       "2                                          13   \n",
       "3                                          79   \n",
       "4                                           1   \n",
       "\n",
       "  calculated_host_listings_count_private_rooms  \\\n",
       "0                                            1   \n",
       "1                                            2   \n",
       "2                                            5   \n",
       "3                                            1   \n",
       "4                                            0   \n",
       "\n",
       "  calculated_host_listings_count_shared_rooms reviews_per_month  \n",
       "0                                           0              0.10  \n",
       "1                                           0              0.11  \n",
       "2                                           0              0.82  \n",
       "3                                           0              0.29  \n",
       "4                                           0              0.60  \n",
       "\n",
       "[5 rows x 75 columns]"
      ]
     },
     "execution_count": 2,
     "metadata": {},
     "output_type": "execute_result"
    }
   ],
   "source": [
    "#import listing dataset \n",
    "url = \"https://raw.githubusercontent.com/MercyMoraa/InsideAirbnb/main/listing%20final3.csv\"\n",
    "listing_df = pd.read_csv(url,encoding='ISO-8859-1' )\n",
    "\n",
    "print(\"Dataset shape:\",listing_df.shape)\n",
    "listing_df.head()"
   ]
  },
  {
   "cell_type": "code",
   "execution_count": 3,
   "metadata": {},
   "outputs": [
    {
     "name": "stdout",
     "output_type": "stream",
     "text": [
      "<class 'pandas.core.frame.DataFrame'>\n",
      "RangeIndex: 9481 entries, 0 to 9480\n",
      "Data columns (total 75 columns):\n",
      " #   Column                                        Non-Null Count  Dtype  \n",
      "---  ------                                        --------------  -----  \n",
      " 0   id                                            9481 non-null   int64  \n",
      " 1   listing_url                                   9481 non-null   object \n",
      " 2   scrape_id                                     9481 non-null   float64\n",
      " 3   last_scraped                                  9481 non-null   object \n",
      " 4   source                                        9481 non-null   object \n",
      " 5   name                                          9481 non-null   object \n",
      " 6   description                                   9363 non-null   object \n",
      " 7   neighborhood_overview                         7139 non-null   object \n",
      " 8   picture_url                                   9481 non-null   object \n",
      " 9   host_id                                       9481 non-null   int64  \n",
      " 10  host_url                                      9481 non-null   object \n",
      " 11  host_name                                     9481 non-null   object \n",
      " 12  host_since                                    9481 non-null   object \n",
      " 13  host_location                                 8257 non-null   object \n",
      " 14  host_about                                    5744 non-null   object \n",
      " 15  host_response_time                            7810 non-null   object \n",
      " 16  host_response_rate                            7810 non-null   object \n",
      " 17  host_acceptance_rate                          8195 non-null   object \n",
      " 18  host_is_superhost                             9462 non-null   object \n",
      " 19  host_thumbnail_url                            9481 non-null   object \n",
      " 20  host_picture_url                              9481 non-null   object \n",
      " 21  host_neighbourhood                            28 non-null     object \n",
      " 22  host_listings_count                           9481 non-null   int64  \n",
      " 23  host_total_listings_count                     9481 non-null   int64  \n",
      " 24  host_verifications                            9481 non-null   object \n",
      " 25  host_has_profile_pic                          9481 non-null   object \n",
      " 26  host_identity_verified                        9481 non-null   object \n",
      " 27  neighbourhood                                 7139 non-null   object \n",
      " 28  neighbourhood_cleansed                        9481 non-null   object \n",
      " 29  neighbourhood_group_cleansed                  0 non-null      float64\n",
      " 30  latitude                                      9481 non-null   float64\n",
      " 31  longitude                                     9481 non-null   float64\n",
      " 32  property_type                                 9481 non-null   object \n",
      " 33  room_type                                     9481 non-null   object \n",
      " 34  accommodates                                  9481 non-null   int64  \n",
      " 35  bathrooms                                     0 non-null      float64\n",
      " 36  bathrooms_text                                9449 non-null   object \n",
      " 37  bedrooms                                      8905 non-null   float64\n",
      " 38  beds                                          9424 non-null   float64\n",
      " 39  amenities                                     9481 non-null   object \n",
      " 40  price                                         9481 non-null   object \n",
      " 41  minimum_nights                                9481 non-null   int64  \n",
      " 42  maximum_nights                                9481 non-null   int64  \n",
      " 43  minimum_minimum_nights                        9479 non-null   float64\n",
      " 44  maximum_minimum_nights                        9479 non-null   float64\n",
      " 45  minimum_maximum_nights                        9479 non-null   float64\n",
      " 46  maximum_maximum_nights                        9479 non-null   float64\n",
      " 47  minimum_nights_avg_ntm                        9479 non-null   float64\n",
      " 48  maximum_nights_avg_ntm                        9479 non-null   float64\n",
      " 49  calendar_updated                              0 non-null      float64\n",
      " 50  has_availability                              9481 non-null   object \n",
      " 51  availability_30                               9481 non-null   int64  \n",
      " 52  availability_60                               9481 non-null   int64  \n",
      " 53  availability_90                               9481 non-null   int64  \n",
      " 54  availability_365                              9481 non-null   int64  \n",
      " 55  calendar_last_scraped                         9481 non-null   object \n",
      " 56  number_of_reviews                             9481 non-null   int64  \n",
      " 57  number_of_reviews_ltm                         9481 non-null   int64  \n",
      " 58  number_of_reviews_l30d                        9481 non-null   int64  \n",
      " 59  first_review                                  8085 non-null   object \n",
      " 60  last_review                                   8085 non-null   object \n",
      " 61  review_scores_rating                          8085 non-null   float64\n",
      " 62  review_scores_accuracy                        7967 non-null   float64\n",
      " 63  review_scores_cleanliness                     7968 non-null   float64\n",
      " 64  review_scores_checkin                         7964 non-null   float64\n",
      " 65  review_scores_communication                   7967 non-null   float64\n",
      " 66  review_scores_location                        7964 non-null   float64\n",
      " 67  review_scores_value                           7963 non-null   float64\n",
      " 68  license                                       35 non-null     object \n",
      " 69  instant_bookable                              9481 non-null   object \n",
      " 70  calculated_host_listings_count                9481 non-null   int64  \n",
      " 71  calculated_host_listings_count_entire_homes   9481 non-null   int64  \n",
      " 72  calculated_host_listings_count_private_rooms  9481 non-null   int64  \n",
      " 73  calculated_host_listings_count_shared_rooms   9481 non-null   int64  \n",
      " 74  reviews_per_month                             8085 non-null   float64\n",
      "dtypes: float64(22), int64(18), object(35)\n",
      "memory usage: 5.4+ MB\n"
     ]
    }
   ],
   "source": [
    "#Investigate listing dataset\n",
    "listing_df.info()"
   ]
  },
  {
   "cell_type": "code",
   "execution_count": 4,
   "metadata": {},
   "outputs": [
    {
     "name": "stdout",
     "output_type": "stream",
     "text": [
      "description                      118\n",
      "neighborhood_overview           2342\n",
      "host_location                   1224\n",
      "host_about                      3737\n",
      "host_response_time              1671\n",
      "host_response_rate              1671\n",
      "host_acceptance_rate            1286\n",
      "host_is_superhost                 19\n",
      "host_neighbourhood              9453\n",
      "neighbourhood                   2342\n",
      "neighbourhood_group_cleansed    9481\n",
      "bathrooms                       9481\n",
      "bathrooms_text                    32\n",
      "bedrooms                         576\n",
      "beds                              57\n",
      "minimum_minimum_nights             2\n",
      "maximum_minimum_nights             2\n",
      "minimum_maximum_nights             2\n",
      "maximum_maximum_nights             2\n",
      "minimum_nights_avg_ntm             2\n",
      "maximum_nights_avg_ntm             2\n",
      "calendar_updated                9481\n",
      "first_review                    1396\n",
      "last_review                     1396\n",
      "review_scores_rating            1396\n",
      "review_scores_accuracy          1514\n",
      "review_scores_cleanliness       1513\n",
      "review_scores_checkin           1517\n",
      "review_scores_communication     1514\n",
      "review_scores_location          1517\n",
      "review_scores_value             1518\n",
      "license                         9446\n",
      "reviews_per_month               1396\n",
      "dtype: int64\n"
     ]
    }
   ],
   "source": [
    "#Check for null values in the listing dataset\n",
    "null_count = listing_df.isna().sum()\n",
    "\n",
    "# select columns with null values greater than zero\n",
    "null_cols = null_count.loc[null_count > 0]\n",
    "\n",
    "# display the null values by column\n",
    "print(null_cols)"
   ]
  },
  {
   "cell_type": "code",
   "execution_count": 5,
   "metadata": {},
   "outputs": [
    {
     "data": {
      "text/html": [
       "<div>\n",
       "<style scoped>\n",
       "    .dataframe tbody tr th:only-of-type {\n",
       "        vertical-align: middle;\n",
       "    }\n",
       "\n",
       "    .dataframe tbody tr th {\n",
       "        vertical-align: top;\n",
       "    }\n",
       "\n",
       "    .dataframe thead th {\n",
       "        text-align: right;\n",
       "    }\n",
       "</style>\n",
       "<table border=\"1\" class=\"dataframe\">\n",
       "  <thead>\n",
       "    <tr style=\"text-align: right;\">\n",
       "      <th></th>\n",
       "      <th>host_neighbourhood</th>\n",
       "      <th>neighbourhood_group_cleansed</th>\n",
       "      <th>bathrooms</th>\n",
       "      <th>calendar_updated</th>\n",
       "      <th>license</th>\n",
       "    </tr>\n",
       "  </thead>\n",
       "  <tbody>\n",
       "    <tr>\n",
       "      <th>0</th>\n",
       "      <td>NaN</td>\n",
       "      <td>NaN</td>\n",
       "      <td>NaN</td>\n",
       "      <td>NaN</td>\n",
       "      <td>NaN</td>\n",
       "    </tr>\n",
       "    <tr>\n",
       "      <th>1</th>\n",
       "      <td>NaN</td>\n",
       "      <td>NaN</td>\n",
       "      <td>NaN</td>\n",
       "      <td>NaN</td>\n",
       "      <td>NaN</td>\n",
       "    </tr>\n",
       "    <tr>\n",
       "      <th>2</th>\n",
       "      <td>NaN</td>\n",
       "      <td>NaN</td>\n",
       "      <td>NaN</td>\n",
       "      <td>NaN</td>\n",
       "      <td>NaN</td>\n",
       "    </tr>\n",
       "    <tr>\n",
       "      <th>3</th>\n",
       "      <td>NaN</td>\n",
       "      <td>NaN</td>\n",
       "      <td>NaN</td>\n",
       "      <td>NaN</td>\n",
       "      <td>NaN</td>\n",
       "    </tr>\n",
       "    <tr>\n",
       "      <th>4</th>\n",
       "      <td>NaN</td>\n",
       "      <td>NaN</td>\n",
       "      <td>NaN</td>\n",
       "      <td>NaN</td>\n",
       "      <td>NaN</td>\n",
       "    </tr>\n",
       "    <tr>\n",
       "      <th>...</th>\n",
       "      <td>...</td>\n",
       "      <td>...</td>\n",
       "      <td>...</td>\n",
       "      <td>...</td>\n",
       "      <td>...</td>\n",
       "    </tr>\n",
       "    <tr>\n",
       "      <th>9476</th>\n",
       "      <td>NaN</td>\n",
       "      <td>NaN</td>\n",
       "      <td>NaN</td>\n",
       "      <td>NaN</td>\n",
       "      <td>NaN</td>\n",
       "    </tr>\n",
       "    <tr>\n",
       "      <th>9477</th>\n",
       "      <td>NaN</td>\n",
       "      <td>NaN</td>\n",
       "      <td>NaN</td>\n",
       "      <td>NaN</td>\n",
       "      <td>NaN</td>\n",
       "    </tr>\n",
       "    <tr>\n",
       "      <th>9478</th>\n",
       "      <td>NaN</td>\n",
       "      <td>NaN</td>\n",
       "      <td>NaN</td>\n",
       "      <td>NaN</td>\n",
       "      <td>NaN</td>\n",
       "    </tr>\n",
       "    <tr>\n",
       "      <th>9479</th>\n",
       "      <td>NaN</td>\n",
       "      <td>NaN</td>\n",
       "      <td>NaN</td>\n",
       "      <td>NaN</td>\n",
       "      <td>NaN</td>\n",
       "    </tr>\n",
       "    <tr>\n",
       "      <th>9480</th>\n",
       "      <td>NaN</td>\n",
       "      <td>NaN</td>\n",
       "      <td>NaN</td>\n",
       "      <td>NaN</td>\n",
       "      <td>NaN</td>\n",
       "    </tr>\n",
       "  </tbody>\n",
       "</table>\n",
       "<p>9481 rows × 5 columns</p>\n",
       "</div>"
      ],
      "text/plain": [
       "     host_neighbourhood  neighbourhood_group_cleansed  bathrooms  \\\n",
       "0                   NaN                           NaN        NaN   \n",
       "1                   NaN                           NaN        NaN   \n",
       "2                   NaN                           NaN        NaN   \n",
       "3                   NaN                           NaN        NaN   \n",
       "4                   NaN                           NaN        NaN   \n",
       "...                 ...                           ...        ...   \n",
       "9476                NaN                           NaN        NaN   \n",
       "9477                NaN                           NaN        NaN   \n",
       "9478                NaN                           NaN        NaN   \n",
       "9479                NaN                           NaN        NaN   \n",
       "9480                NaN                           NaN        NaN   \n",
       "\n",
       "      calendar_updated license  \n",
       "0                  NaN     NaN  \n",
       "1                  NaN     NaN  \n",
       "2                  NaN     NaN  \n",
       "3                  NaN     NaN  \n",
       "4                  NaN     NaN  \n",
       "...                ...     ...  \n",
       "9476               NaN     NaN  \n",
       "9477               NaN     NaN  \n",
       "9478               NaN     NaN  \n",
       "9479               NaN     NaN  \n",
       "9480               NaN     NaN  \n",
       "\n",
       "[9481 rows x 5 columns]"
      ]
     },
     "execution_count": 5,
     "metadata": {},
     "output_type": "execute_result"
    }
   ],
   "source": [
    "#drop columns with more than 50% null values\n",
    "na_cols = listing_df[['host_neighbourhood','neighbourhood_group_cleansed','bathrooms','calendar_updated','license']]\n",
    "na_cols"
   ]
  },
  {
   "cell_type": "code",
   "execution_count": 6,
   "metadata": {},
   "outputs": [
    {
     "data": {
      "text/plain": [
       "(9481, 70)"
      ]
     },
     "execution_count": 6,
     "metadata": {},
     "output_type": "execute_result"
    }
   ],
   "source": [
    "listing_df = listing_df.drop(na_cols, axis=1)\n",
    "listing_df.shape"
   ]
  },
  {
   "cell_type": "code",
   "execution_count": 7,
   "metadata": {},
   "outputs": [
    {
     "data": {
      "text/plain": [
       "(9481, 60)"
      ]
     },
     "execution_count": 7,
     "metadata": {},
     "output_type": "execute_result"
    }
   ],
   "source": [
    "#Investigate and drop irrelevant columns\n",
    "cols_drop = listing_df[['listing_url',\n",
    "                        'scrape_id',\n",
    "                        'last_scraped',\n",
    "                        'source',\n",
    "                        'host_thumbnail_url',\n",
    "                        'host_picture_url',\n",
    "                        'picture_url', \n",
    "                        'latitude',\n",
    "                        'longitude',\n",
    "                        'calendar_last_scraped']]\n",
    "\n",
    "\n",
    "listing_df = listing_df.drop(cols_drop, axis=1)\n",
    "listing_df.shape"
   ]
  },
  {
   "cell_type": "code",
   "execution_count": 8,
   "metadata": {
    "scrolled": true
   },
   "outputs": [
    {
     "data": {
      "text/plain": [
       "False"
      ]
     },
     "execution_count": 8,
     "metadata": {},
     "output_type": "execute_result"
    }
   ],
   "source": [
    "#Check for dupliactes\n",
    "listing_df.duplicated().any()"
   ]
  },
  {
   "cell_type": "code",
   "execution_count": 9,
   "metadata": {},
   "outputs": [],
   "source": [
    "#dropping null values on the bedroom column\n",
    "listing_df.dropna(subset=['bedrooms'], inplace=True)"
   ]
  },
  {
   "cell_type": "code",
   "execution_count": 10,
   "metadata": {},
   "outputs": [
    {
     "name": "stdout",
     "output_type": "stream",
     "text": [
      "<class 'pandas.core.frame.DataFrame'>\n",
      "Int64Index: 8905 entries, 0 to 9480\n",
      "Data columns (total 60 columns):\n",
      " #   Column                                        Non-Null Count  Dtype  \n",
      "---  ------                                        --------------  -----  \n",
      " 0   id                                            8905 non-null   int64  \n",
      " 1   name                                          8905 non-null   object \n",
      " 2   description                                   8795 non-null   object \n",
      " 3   neighborhood_overview                         6737 non-null   object \n",
      " 4   host_id                                       8905 non-null   int64  \n",
      " 5   host_url                                      8905 non-null   object \n",
      " 6   host_name                                     8905 non-null   object \n",
      " 7   host_since                                    8905 non-null   object \n",
      " 8   host_location                                 7749 non-null   object \n",
      " 9   host_about                                    5363 non-null   object \n",
      " 10  host_response_time                            7322 non-null   object \n",
      " 11  host_response_rate                            7322 non-null   object \n",
      " 12  host_acceptance_rate                          7686 non-null   object \n",
      " 13  host_is_superhost                             8886 non-null   object \n",
      " 14  host_listings_count                           8905 non-null   int64  \n",
      " 15  host_total_listings_count                     8905 non-null   int64  \n",
      " 16  host_verifications                            8905 non-null   object \n",
      " 17  host_has_profile_pic                          8905 non-null   object \n",
      " 18  host_identity_verified                        8905 non-null   object \n",
      " 19  neighbourhood                                 6737 non-null   object \n",
      " 20  neighbourhood_cleansed                        8905 non-null   object \n",
      " 21  property_type                                 8905 non-null   object \n",
      " 22  room_type                                     8905 non-null   object \n",
      " 23  accommodates                                  8905 non-null   int64  \n",
      " 24  bathrooms_text                                8874 non-null   object \n",
      " 25  bedrooms                                      8905 non-null   float64\n",
      " 26  beds                                          8855 non-null   float64\n",
      " 27  amenities                                     8905 non-null   object \n",
      " 28  price                                         8905 non-null   object \n",
      " 29  minimum_nights                                8905 non-null   int64  \n",
      " 30  maximum_nights                                8905 non-null   int64  \n",
      " 31  minimum_minimum_nights                        8903 non-null   float64\n",
      " 32  maximum_minimum_nights                        8903 non-null   float64\n",
      " 33  minimum_maximum_nights                        8903 non-null   float64\n",
      " 34  maximum_maximum_nights                        8903 non-null   float64\n",
      " 35  minimum_nights_avg_ntm                        8903 non-null   float64\n",
      " 36  maximum_nights_avg_ntm                        8903 non-null   float64\n",
      " 37  has_availability                              8905 non-null   object \n",
      " 38  availability_30                               8905 non-null   int64  \n",
      " 39  availability_60                               8905 non-null   int64  \n",
      " 40  availability_90                               8905 non-null   int64  \n",
      " 41  availability_365                              8905 non-null   int64  \n",
      " 42  number_of_reviews                             8905 non-null   int64  \n",
      " 43  number_of_reviews_ltm                         8905 non-null   int64  \n",
      " 44  number_of_reviews_l30d                        8905 non-null   int64  \n",
      " 45  first_review                                  7576 non-null   object \n",
      " 46  last_review                                   7576 non-null   object \n",
      " 47  review_scores_rating                          7576 non-null   float64\n",
      " 48  review_scores_accuracy                        7463 non-null   float64\n",
      " 49  review_scores_cleanliness                     7464 non-null   float64\n",
      " 50  review_scores_checkin                         7460 non-null   float64\n",
      " 51  review_scores_communication                   7463 non-null   float64\n",
      " 52  review_scores_location                        7460 non-null   float64\n",
      " 53  review_scores_value                           7459 non-null   float64\n",
      " 54  instant_bookable                              8905 non-null   object \n",
      " 55  calculated_host_listings_count                8905 non-null   int64  \n",
      " 56  calculated_host_listings_count_entire_homes   8905 non-null   int64  \n",
      " 57  calculated_host_listings_count_private_rooms  8905 non-null   int64  \n",
      " 58  calculated_host_listings_count_shared_rooms   8905 non-null   int64  \n",
      " 59  reviews_per_month                             7576 non-null   float64\n",
      "dtypes: float64(16), int64(18), object(26)\n",
      "memory usage: 4.1+ MB\n"
     ]
    }
   ],
   "source": [
    "listing_df.info()"
   ]
  },
  {
   "cell_type": "code",
   "execution_count": 11,
   "metadata": {},
   "outputs": [
    {
     "data": {
      "text/plain": [
       "description              0\n",
       "neighborhood_overview    0\n",
       "host_location            0\n",
       "host_about               0\n",
       "neighbourhood            0\n",
       "first_review             0\n",
       "last_review              0\n",
       "dtype: int64"
      ]
     },
     "execution_count": 11,
     "metadata": {},
     "output_type": "execute_result"
    }
   ],
   "source": [
    "#Impute descriptive columns with a placeholder \"Missing\" \n",
    "Impute_missing= ['description',\n",
    "             'neighborhood_overview',\n",
    "             'host_location',\n",
    "             'host_about',\n",
    "             'neighbourhood',\n",
    "             'first_review',\n",
    "             'last_review',]\n",
    "\n",
    "listing_df[Impute_missing] = listing_df[Impute_missing].fillna(value = \"Missing\")\n",
    "listing_df[Impute_missing].isna().sum()"
   ]
  },
  {
   "cell_type": "code",
   "execution_count": 12,
   "metadata": {
    "scrolled": true
   },
   "outputs": [
    {
     "data": {
      "text/plain": [
       "beds                           0\n",
       "minimum_minimum_nights         0\n",
       "maximum_minimum_nights         0\n",
       "minimum_maximum_nights         0\n",
       "maximum_maximum_nights         0\n",
       "minimum_nights_avg_ntm         0\n",
       "maximum_nights_avg_ntm         0\n",
       "review_scores_rating           0\n",
       "review_scores_accuracy         0\n",
       "review_scores_cleanliness      0\n",
       "review_scores_checkin          0\n",
       "review_scores_communication    0\n",
       "review_scores_location         0\n",
       "review_scores_value            0\n",
       "reviews_per_month              0\n",
       "dtype: int64"
      ]
     },
     "execution_count": 12,
     "metadata": {},
     "output_type": "execute_result"
    }
   ],
   "source": [
    "#Impute with mean for some numerical columns\n",
    "Impute_mean = ['beds','minimum_minimum_nights',\n",
    "               'maximum_minimum_nights',\n",
    "               'minimum_maximum_nights',\n",
    "               'maximum_maximum_nights',\n",
    "               'minimum_nights_avg_ntm',\n",
    "               'maximum_nights_avg_ntm',\n",
    "               'review_scores_rating',\n",
    "               'review_scores_accuracy',\n",
    "               'review_scores_cleanliness',\n",
    "               'review_scores_checkin',\n",
    "               'review_scores_communication',\n",
    "               'review_scores_location',\n",
    "               'review_scores_value',\n",
    "               'reviews_per_month']\n",
    "\n",
    "#find the means of the above columns\n",
    "mean = listing_df[Impute_mean].mean()\n",
    "\n",
    "listing_df[Impute_mean] = listing_df[Impute_mean].fillna(value = mean)\n",
    "listing_df[Impute_mean].isna().sum()"
   ]
  },
  {
   "cell_type": "code",
   "execution_count": 13,
   "metadata": {},
   "outputs": [
    {
     "data": {
      "text/plain": [
       "host_response_time      0\n",
       "host_response_rate      0\n",
       "host_acceptance_rate    0\n",
       "host_is_superhost       0\n",
       "bathrooms_text          0\n",
       "dtype: int64"
      ]
     },
     "execution_count": 13,
     "metadata": {},
     "output_type": "execute_result"
    }
   ],
   "source": [
    "#Impute with mode for some categorical columns\n",
    "Impute_mode = ['host_response_time',\n",
    "                'host_response_rate',\n",
    "                'host_acceptance_rate',\n",
    "                'host_is_superhost',\n",
    "                'bathrooms_text',]\n",
    "\n",
    "#find the mode of the above columns\n",
    "mode = listing_df[Impute_mode].mode()\n",
    "\n",
    "listing_df[Impute_mode] = listing_df[Impute_mode].fillna(value = mode.iloc[0])\n",
    "listing_df[Impute_mode].isna().sum()"
   ]
  },
  {
   "cell_type": "code",
   "execution_count": 14,
   "metadata": {},
   "outputs": [
    {
     "name": "stdout",
     "output_type": "stream",
     "text": [
      "Series([], dtype: int64)\n"
     ]
    }
   ],
   "source": [
    "#Check for null values in the cleaned listing dataset\n",
    "null_count = listing_df.isna().sum()\n",
    "\n",
    "# select columns with null values greater than zero\n",
    "null_cols = null_count.loc[null_count > 0]\n",
    "\n",
    "# display the null values by column\n",
    "print(null_cols)"
   ]
  },
  {
   "cell_type": "code",
   "execution_count": 15,
   "metadata": {},
   "outputs": [
    {
     "data": {
      "text/plain": [
       "id                                              False\n",
       "name                                            False\n",
       "description                                     False\n",
       "neighborhood_overview                           False\n",
       "host_id                                         False\n",
       "host_url                                        False\n",
       "host_name                                       False\n",
       "host_since                                      False\n",
       "host_location                                   False\n",
       "host_about                                      False\n",
       "host_response_time                              False\n",
       "host_response_rate                              False\n",
       "host_acceptance_rate                            False\n",
       "host_is_superhost                               False\n",
       "host_listings_count                             False\n",
       "host_total_listings_count                       False\n",
       "host_verifications                              False\n",
       "host_has_profile_pic                            False\n",
       "host_identity_verified                          False\n",
       "neighbourhood                                   False\n",
       "neighbourhood_cleansed                          False\n",
       "property_type                                   False\n",
       "room_type                                       False\n",
       "accommodates                                    False\n",
       "bathrooms_text                                  False\n",
       "bedrooms                                        False\n",
       "beds                                            False\n",
       "amenities                                       False\n",
       "price                                           False\n",
       "minimum_nights                                  False\n",
       "maximum_nights                                  False\n",
       "minimum_minimum_nights                          False\n",
       "maximum_minimum_nights                          False\n",
       "minimum_maximum_nights                          False\n",
       "maximum_maximum_nights                          False\n",
       "minimum_nights_avg_ntm                          False\n",
       "maximum_nights_avg_ntm                          False\n",
       "has_availability                                False\n",
       "availability_30                                 False\n",
       "availability_60                                 False\n",
       "availability_90                                 False\n",
       "availability_365                                False\n",
       "number_of_reviews                               False\n",
       "number_of_reviews_ltm                           False\n",
       "number_of_reviews_l30d                          False\n",
       "first_review                                    False\n",
       "last_review                                     False\n",
       "review_scores_rating                            False\n",
       "review_scores_accuracy                          False\n",
       "review_scores_cleanliness                       False\n",
       "review_scores_checkin                           False\n",
       "review_scores_communication                     False\n",
       "review_scores_location                          False\n",
       "review_scores_value                             False\n",
       "instant_bookable                                False\n",
       "calculated_host_listings_count                  False\n",
       "calculated_host_listings_count_entire_homes     False\n",
       "calculated_host_listings_count_private_rooms    False\n",
       "calculated_host_listings_count_shared_rooms     False\n",
       "reviews_per_month                               False\n",
       "dtype: bool"
      ]
     },
     "execution_count": 15,
     "metadata": {},
     "output_type": "execute_result"
    }
   ],
   "source": [
    "#confrim removal of all null values\n",
    "listing_df.isna().any()"
   ]
  },
  {
   "cell_type": "code",
   "execution_count": 16,
   "metadata": {},
   "outputs": [
    {
     "name": "stdout",
     "output_type": "stream",
     "text": [
      "Dataset shape: (13649, 6)\n"
     ]
    },
    {
     "data": {
      "text/html": [
       "<div>\n",
       "<style scoped>\n",
       "    .dataframe tbody tr th:only-of-type {\n",
       "        vertical-align: middle;\n",
       "    }\n",
       "\n",
       "    .dataframe tbody tr th {\n",
       "        vertical-align: top;\n",
       "    }\n",
       "\n",
       "    .dataframe thead th {\n",
       "        text-align: right;\n",
       "    }\n",
       "</style>\n",
       "<table border=\"1\" class=\"dataframe\">\n",
       "  <thead>\n",
       "    <tr style=\"text-align: right;\">\n",
       "      <th></th>\n",
       "      <th>listing_id</th>\n",
       "      <th>id</th>\n",
       "      <th>date</th>\n",
       "      <th>reviewer_id</th>\n",
       "      <th>reviewer_name</th>\n",
       "      <th>comments</th>\n",
       "    </tr>\n",
       "  </thead>\n",
       "  <tbody>\n",
       "    <tr>\n",
       "      <th>0</th>\n",
       "      <td>3191</td>\n",
       "      <td>4888238.0</td>\n",
       "      <td>5/31/2013</td>\n",
       "      <td>5737473</td>\n",
       "      <td>Kathleen</td>\n",
       "      <td>Great home away from home! Bridgette and Marth...</td>\n",
       "    </tr>\n",
       "    <tr>\n",
       "      <th>1</th>\n",
       "      <td>3191</td>\n",
       "      <td>9128602.0</td>\n",
       "      <td>12/9/2013</td>\n",
       "      <td>8170322</td>\n",
       "      <td>Anita</td>\n",
       "      <td>Das Cottage liegt ruhig und sicher.  Wir haben...</td>\n",
       "    </tr>\n",
       "    <tr>\n",
       "      <th>2</th>\n",
       "      <td>3191</td>\n",
       "      <td>9924130.0</td>\n",
       "      <td>1/20/2014</td>\n",
       "      <td>4039279</td>\n",
       "      <td>Zacki</td>\n",
       "      <td>This cottage was a great base from which to ex...</td>\n",
       "    </tr>\n",
       "    <tr>\n",
       "      <th>3</th>\n",
       "      <td>3191</td>\n",
       "      <td>16659537.0</td>\n",
       "      <td>7/31/2014</td>\n",
       "      <td>9729939</td>\n",
       "      <td>Doug</td>\n",
       "      <td>I had a great stay.  All my needs were well ex...</td>\n",
       "    </tr>\n",
       "    <tr>\n",
       "      <th>4</th>\n",
       "      <td>3191</td>\n",
       "      <td>23247470.0</td>\n",
       "      <td>11/26/2014</td>\n",
       "      <td>9681619</td>\n",
       "      <td>Christopher</td>\n",
       "      <td>Excellent host. She provided everything we cou...</td>\n",
       "    </tr>\n",
       "  </tbody>\n",
       "</table>\n",
       "</div>"
      ],
      "text/plain": [
       "   listing_id          id        date  reviewer_id reviewer_name  \\\n",
       "0        3191   4888238.0   5/31/2013      5737473      Kathleen   \n",
       "1        3191   9128602.0   12/9/2013      8170322         Anita   \n",
       "2        3191   9924130.0   1/20/2014      4039279         Zacki   \n",
       "3        3191  16659537.0   7/31/2014      9729939          Doug   \n",
       "4        3191  23247470.0  11/26/2014      9681619   Christopher   \n",
       "\n",
       "                                            comments  \n",
       "0  Great home away from home! Bridgette and Marth...  \n",
       "1  Das Cottage liegt ruhig und sicher.  Wir haben...  \n",
       "2  This cottage was a great base from which to ex...  \n",
       "3  I had a great stay.  All my needs were well ex...  \n",
       "4  Excellent host. She provided everything we cou...  "
      ]
     },
     "execution_count": 16,
     "metadata": {},
     "output_type": "execute_result"
    }
   ],
   "source": [
    "#import review dataset \n",
    "url = \"https://raw.githubusercontent.com/MercyMoraa/InsideAirbnb/main/review%20final1.csv\"\n",
    "review_df = pd.read_csv(url, encoding='ISO-8859-1')\n",
    "\n",
    "print(\"Dataset shape:\",review_df.shape)\n",
    "review_df.head()"
   ]
  },
  {
   "cell_type": "code",
   "execution_count": 17,
   "metadata": {},
   "outputs": [
    {
     "name": "stdout",
     "output_type": "stream",
     "text": [
      "<class 'pandas.core.frame.DataFrame'>\n",
      "RangeIndex: 13649 entries, 0 to 13648\n",
      "Data columns (total 6 columns):\n",
      " #   Column         Non-Null Count  Dtype  \n",
      "---  ------         --------------  -----  \n",
      " 0   listing_id     13649 non-null  int64  \n",
      " 1   id             13649 non-null  float64\n",
      " 2   date           13649 non-null  object \n",
      " 3   reviewer_id    13649 non-null  int64  \n",
      " 4   reviewer_name  13649 non-null  object \n",
      " 5   comments       13649 non-null  object \n",
      "dtypes: float64(1), int64(2), object(3)\n",
      "memory usage: 639.9+ KB\n"
     ]
    }
   ],
   "source": [
    "#Investigate review dataset\n",
    "review_df.info()"
   ]
  },
  {
   "cell_type": "code",
   "execution_count": 18,
   "metadata": {},
   "outputs": [
    {
     "name": "stdout",
     "output_type": "stream",
     "text": [
      "Dataset shape: (13649, 14)\n"
     ]
    },
    {
     "data": {
      "text/html": [
       "<div>\n",
       "<style scoped>\n",
       "    .dataframe tbody tr th:only-of-type {\n",
       "        vertical-align: middle;\n",
       "    }\n",
       "\n",
       "    .dataframe tbody tr th {\n",
       "        vertical-align: top;\n",
       "    }\n",
       "\n",
       "    .dataframe thead th {\n",
       "        text-align: right;\n",
       "    }\n",
       "</style>\n",
       "<table border=\"1\" class=\"dataframe\">\n",
       "  <thead>\n",
       "    <tr style=\"text-align: right;\">\n",
       "      <th></th>\n",
       "      <th>listing_id</th>\n",
       "      <th>date</th>\n",
       "      <th>available</th>\n",
       "      <th>price</th>\n",
       "      <th>adjusted_price</th>\n",
       "      <th>minimum_nights</th>\n",
       "      <th>maximum_nights</th>\n",
       "      <th>Unnamed: 7</th>\n",
       "      <th>Unnamed: 8</th>\n",
       "      <th>Unnamed: 9</th>\n",
       "      <th>Unnamed: 10</th>\n",
       "      <th>Unnamed: 11</th>\n",
       "      <th>Unnamed: 12</th>\n",
       "      <th>Unnamed: 13</th>\n",
       "    </tr>\n",
       "  </thead>\n",
       "  <tbody>\n",
       "    <tr>\n",
       "      <th>0</th>\n",
       "      <td>736534</td>\n",
       "      <td>12/29/2022</td>\n",
       "      <td>f</td>\n",
       "      <td>$1,250.00</td>\n",
       "      <td>$1,250.00</td>\n",
       "      <td>1</td>\n",
       "      <td>1125</td>\n",
       "      <td>NaN</td>\n",
       "      <td>NaN</td>\n",
       "      <td>NaN</td>\n",
       "      <td>NaN</td>\n",
       "      <td>NaN</td>\n",
       "      <td>NaN</td>\n",
       "      <td>NaN</td>\n",
       "    </tr>\n",
       "    <tr>\n",
       "      <th>1</th>\n",
       "      <td>736534</td>\n",
       "      <td>12/30/2022</td>\n",
       "      <td>f</td>\n",
       "      <td>$1,250.00</td>\n",
       "      <td>$1,250.00</td>\n",
       "      <td>2</td>\n",
       "      <td>1125</td>\n",
       "      <td>NaN</td>\n",
       "      <td>NaN</td>\n",
       "      <td>NaN</td>\n",
       "      <td>NaN</td>\n",
       "      <td>NaN</td>\n",
       "      <td>NaN</td>\n",
       "      <td>NaN</td>\n",
       "    </tr>\n",
       "    <tr>\n",
       "      <th>2</th>\n",
       "      <td>736534</td>\n",
       "      <td>12/31/2022</td>\n",
       "      <td>f</td>\n",
       "      <td>$1,250.00</td>\n",
       "      <td>$1,250.00</td>\n",
       "      <td>2</td>\n",
       "      <td>1125</td>\n",
       "      <td>NaN</td>\n",
       "      <td>NaN</td>\n",
       "      <td>NaN</td>\n",
       "      <td>NaN</td>\n",
       "      <td>NaN</td>\n",
       "      <td>NaN</td>\n",
       "      <td>NaN</td>\n",
       "    </tr>\n",
       "    <tr>\n",
       "      <th>3</th>\n",
       "      <td>736534</td>\n",
       "      <td>1/1/2023</td>\n",
       "      <td>f</td>\n",
       "      <td>$1,250.00</td>\n",
       "      <td>$1,250.00</td>\n",
       "      <td>1</td>\n",
       "      <td>1125</td>\n",
       "      <td>NaN</td>\n",
       "      <td>NaN</td>\n",
       "      <td>NaN</td>\n",
       "      <td>NaN</td>\n",
       "      <td>NaN</td>\n",
       "      <td>NaN</td>\n",
       "      <td>NaN</td>\n",
       "    </tr>\n",
       "    <tr>\n",
       "      <th>4</th>\n",
       "      <td>736534</td>\n",
       "      <td>1/2/2023</td>\n",
       "      <td>f</td>\n",
       "      <td>$1,250.00</td>\n",
       "      <td>$1,250.00</td>\n",
       "      <td>1</td>\n",
       "      <td>1125</td>\n",
       "      <td>NaN</td>\n",
       "      <td>NaN</td>\n",
       "      <td>NaN</td>\n",
       "      <td>NaN</td>\n",
       "      <td>NaN</td>\n",
       "      <td>NaN</td>\n",
       "      <td>NaN</td>\n",
       "    </tr>\n",
       "  </tbody>\n",
       "</table>\n",
       "</div>"
      ],
      "text/plain": [
       "   listing_id        date available       price adjusted_price  \\\n",
       "0      736534  12/29/2022         f  $1,250.00      $1,250.00    \n",
       "1      736534  12/30/2022         f  $1,250.00      $1,250.00    \n",
       "2      736534  12/31/2022         f  $1,250.00      $1,250.00    \n",
       "3      736534    1/1/2023         f  $1,250.00      $1,250.00    \n",
       "4      736534    1/2/2023         f  $1,250.00      $1,250.00    \n",
       "\n",
       "   minimum_nights  maximum_nights  Unnamed: 7  Unnamed: 8  Unnamed: 9  \\\n",
       "0               1            1125         NaN         NaN         NaN   \n",
       "1               2            1125         NaN         NaN         NaN   \n",
       "2               2            1125         NaN         NaN         NaN   \n",
       "3               1            1125         NaN         NaN         NaN   \n",
       "4               1            1125         NaN         NaN         NaN   \n",
       "\n",
       "   Unnamed: 10  Unnamed: 11  Unnamed: 12  Unnamed: 13  \n",
       "0          NaN          NaN          NaN          NaN  \n",
       "1          NaN          NaN          NaN          NaN  \n",
       "2          NaN          NaN          NaN          NaN  \n",
       "3          NaN          NaN          NaN          NaN  \n",
       "4          NaN          NaN          NaN          NaN  "
      ]
     },
     "execution_count": 18,
     "metadata": {},
     "output_type": "execute_result"
    }
   ],
   "source": [
    "#import calendar dataset \n",
    "url = \"https://raw.githubusercontent.com/MercyMoraa/InsideAirbnb/main/calendar%20final.csv\"\n",
    "cal_df = pd.read_csv(url)\n",
    "\n",
    "print(\"Dataset shape:\",cal_df.shape)\n",
    "cal_df.head()"
   ]
  },
  {
   "cell_type": "code",
   "execution_count": 19,
   "metadata": {
    "scrolled": true
   },
   "outputs": [
    {
     "name": "stdout",
     "output_type": "stream",
     "text": [
      "<class 'pandas.core.frame.DataFrame'>\n",
      "RangeIndex: 13649 entries, 0 to 13648\n",
      "Data columns (total 14 columns):\n",
      " #   Column          Non-Null Count  Dtype  \n",
      "---  ------          --------------  -----  \n",
      " 0   listing_id      13649 non-null  int64  \n",
      " 1   date            13649 non-null  object \n",
      " 2   available       13649 non-null  object \n",
      " 3   price           13649 non-null  object \n",
      " 4   adjusted_price  13649 non-null  object \n",
      " 5   minimum_nights  13649 non-null  int64  \n",
      " 6   maximum_nights  13649 non-null  int64  \n",
      " 7   Unnamed: 7      0 non-null      float64\n",
      " 8   Unnamed: 8      0 non-null      float64\n",
      " 9   Unnamed: 9      0 non-null      float64\n",
      " 10  Unnamed: 10     0 non-null      float64\n",
      " 11  Unnamed: 11     0 non-null      float64\n",
      " 12  Unnamed: 12     0 non-null      float64\n",
      " 13  Unnamed: 13     0 non-null      float64\n",
      "dtypes: float64(7), int64(3), object(4)\n",
      "memory usage: 1.5+ MB\n"
     ]
    }
   ],
   "source": [
    "#Investigate calendar dataset\n",
    "cal_df.info()"
   ]
  },
  {
   "cell_type": "code",
   "execution_count": 20,
   "metadata": {
    "scrolled": true
   },
   "outputs": [
    {
     "data": {
      "text/plain": [
       "listing_id            0\n",
       "date                  0\n",
       "available             0\n",
       "price                 0\n",
       "adjusted_price        0\n",
       "minimum_nights        0\n",
       "maximum_nights        0\n",
       "Unnamed: 7        13649\n",
       "Unnamed: 8        13649\n",
       "Unnamed: 9        13649\n",
       "Unnamed: 10       13649\n",
       "Unnamed: 11       13649\n",
       "Unnamed: 12       13649\n",
       "Unnamed: 13       13649\n",
       "dtype: int64"
      ]
     },
     "execution_count": 20,
     "metadata": {},
     "output_type": "execute_result"
    }
   ],
   "source": [
    "#Check for null values on the calendar dataset\n",
    "cal_df.isna().sum()"
   ]
  },
  {
   "cell_type": "code",
   "execution_count": 21,
   "metadata": {
    "scrolled": true
   },
   "outputs": [
    {
     "name": "stdout",
     "output_type": "stream",
     "text": [
      "listing_id        0\n",
      "date              0\n",
      "available         0\n",
      "price             0\n",
      "adjusted_price    0\n",
      "minimum_nights    0\n",
      "maximum_nights    0\n",
      "dtype: int64\n"
     ]
    },
    {
     "data": {
      "text/html": [
       "<div>\n",
       "<style scoped>\n",
       "    .dataframe tbody tr th:only-of-type {\n",
       "        vertical-align: middle;\n",
       "    }\n",
       "\n",
       "    .dataframe tbody tr th {\n",
       "        vertical-align: top;\n",
       "    }\n",
       "\n",
       "    .dataframe thead th {\n",
       "        text-align: right;\n",
       "    }\n",
       "</style>\n",
       "<table border=\"1\" class=\"dataframe\">\n",
       "  <thead>\n",
       "    <tr style=\"text-align: right;\">\n",
       "      <th></th>\n",
       "      <th>listing_id</th>\n",
       "      <th>date</th>\n",
       "      <th>available</th>\n",
       "      <th>price</th>\n",
       "      <th>adjusted_price</th>\n",
       "      <th>minimum_nights</th>\n",
       "      <th>maximum_nights</th>\n",
       "    </tr>\n",
       "  </thead>\n",
       "  <tbody>\n",
       "    <tr>\n",
       "      <th>0</th>\n",
       "      <td>736534</td>\n",
       "      <td>12/29/2022</td>\n",
       "      <td>f</td>\n",
       "      <td>$1,250.00</td>\n",
       "      <td>$1,250.00</td>\n",
       "      <td>1</td>\n",
       "      <td>1125</td>\n",
       "    </tr>\n",
       "    <tr>\n",
       "      <th>1</th>\n",
       "      <td>736534</td>\n",
       "      <td>12/30/2022</td>\n",
       "      <td>f</td>\n",
       "      <td>$1,250.00</td>\n",
       "      <td>$1,250.00</td>\n",
       "      <td>2</td>\n",
       "      <td>1125</td>\n",
       "    </tr>\n",
       "    <tr>\n",
       "      <th>2</th>\n",
       "      <td>736534</td>\n",
       "      <td>12/31/2022</td>\n",
       "      <td>f</td>\n",
       "      <td>$1,250.00</td>\n",
       "      <td>$1,250.00</td>\n",
       "      <td>2</td>\n",
       "      <td>1125</td>\n",
       "    </tr>\n",
       "    <tr>\n",
       "      <th>3</th>\n",
       "      <td>736534</td>\n",
       "      <td>1/1/2023</td>\n",
       "      <td>f</td>\n",
       "      <td>$1,250.00</td>\n",
       "      <td>$1,250.00</td>\n",
       "      <td>1</td>\n",
       "      <td>1125</td>\n",
       "    </tr>\n",
       "    <tr>\n",
       "      <th>4</th>\n",
       "      <td>736534</td>\n",
       "      <td>1/2/2023</td>\n",
       "      <td>f</td>\n",
       "      <td>$1,250.00</td>\n",
       "      <td>$1,250.00</td>\n",
       "      <td>1</td>\n",
       "      <td>1125</td>\n",
       "    </tr>\n",
       "  </tbody>\n",
       "</table>\n",
       "</div>"
      ],
      "text/plain": [
       "   listing_id        date available       price adjusted_price  \\\n",
       "0      736534  12/29/2022         f  $1,250.00      $1,250.00    \n",
       "1      736534  12/30/2022         f  $1,250.00      $1,250.00    \n",
       "2      736534  12/31/2022         f  $1,250.00      $1,250.00    \n",
       "3      736534    1/1/2023         f  $1,250.00      $1,250.00    \n",
       "4      736534    1/2/2023         f  $1,250.00      $1,250.00    \n",
       "\n",
       "   minimum_nights  maximum_nights  \n",
       "0               1            1125  \n",
       "1               2            1125  \n",
       "2               2            1125  \n",
       "3               1            1125  \n",
       "4               1            1125  "
      ]
     },
     "execution_count": 21,
     "metadata": {},
     "output_type": "execute_result"
    }
   ],
   "source": [
    "#drop irrelevant columns\n",
    "cal_df = cal_df.dropna(axis=1)\n",
    "print(cal_df.isna().sum())\n",
    "cal_df.head()"
   ]
  },
  {
   "cell_type": "code",
   "execution_count": 22,
   "metadata": {
    "scrolled": true
   },
   "outputs": [
    {
     "data": {
      "text/plain": [
       "False"
      ]
     },
     "execution_count": 22,
     "metadata": {},
     "output_type": "execute_result"
    }
   ],
   "source": [
    "#check for duplicates\n",
    "cal_df.duplicated().any()"
   ]
  },
  {
   "cell_type": "code",
   "execution_count": 23,
   "metadata": {},
   "outputs": [
    {
     "data": {
      "text/html": [
       "<div>\n",
       "<style scoped>\n",
       "    .dataframe tbody tr th:only-of-type {\n",
       "        vertical-align: middle;\n",
       "    }\n",
       "\n",
       "    .dataframe tbody tr th {\n",
       "        vertical-align: top;\n",
       "    }\n",
       "\n",
       "    .dataframe thead th {\n",
       "        text-align: right;\n",
       "    }\n",
       "</style>\n",
       "<table border=\"1\" class=\"dataframe\">\n",
       "  <thead>\n",
       "    <tr style=\"text-align: right;\">\n",
       "      <th></th>\n",
       "      <th>listing_id</th>\n",
       "      <th>date</th>\n",
       "      <th>available</th>\n",
       "      <th>price</th>\n",
       "      <th>adjusted_price</th>\n",
       "      <th>minimum_nights</th>\n",
       "      <th>maximum_nights</th>\n",
       "    </tr>\n",
       "  </thead>\n",
       "  <tbody>\n",
       "    <tr>\n",
       "      <th>0</th>\n",
       "      <td>736534</td>\n",
       "      <td>12/29/2022</td>\n",
       "      <td>f</td>\n",
       "      <td>1250.0</td>\n",
       "      <td>1250.0</td>\n",
       "      <td>1</td>\n",
       "      <td>1125</td>\n",
       "    </tr>\n",
       "    <tr>\n",
       "      <th>1</th>\n",
       "      <td>736534</td>\n",
       "      <td>12/30/2022</td>\n",
       "      <td>f</td>\n",
       "      <td>1250.0</td>\n",
       "      <td>1250.0</td>\n",
       "      <td>2</td>\n",
       "      <td>1125</td>\n",
       "    </tr>\n",
       "    <tr>\n",
       "      <th>2</th>\n",
       "      <td>736534</td>\n",
       "      <td>12/31/2022</td>\n",
       "      <td>f</td>\n",
       "      <td>1250.0</td>\n",
       "      <td>1250.0</td>\n",
       "      <td>2</td>\n",
       "      <td>1125</td>\n",
       "    </tr>\n",
       "    <tr>\n",
       "      <th>3</th>\n",
       "      <td>736534</td>\n",
       "      <td>1/1/2023</td>\n",
       "      <td>f</td>\n",
       "      <td>1250.0</td>\n",
       "      <td>1250.0</td>\n",
       "      <td>1</td>\n",
       "      <td>1125</td>\n",
       "    </tr>\n",
       "    <tr>\n",
       "      <th>4</th>\n",
       "      <td>736534</td>\n",
       "      <td>1/2/2023</td>\n",
       "      <td>f</td>\n",
       "      <td>1250.0</td>\n",
       "      <td>1250.0</td>\n",
       "      <td>1</td>\n",
       "      <td>1125</td>\n",
       "    </tr>\n",
       "  </tbody>\n",
       "</table>\n",
       "</div>"
      ],
      "text/plain": [
       "   listing_id        date available   price  adjusted_price  minimum_nights  \\\n",
       "0      736534  12/29/2022         f  1250.0          1250.0               1   \n",
       "1      736534  12/30/2022         f  1250.0          1250.0               2   \n",
       "2      736534  12/31/2022         f  1250.0          1250.0               2   \n",
       "3      736534    1/1/2023         f  1250.0          1250.0               1   \n",
       "4      736534    1/2/2023         f  1250.0          1250.0               1   \n",
       "\n",
       "   maximum_nights  \n",
       "0            1125  \n",
       "1            1125  \n",
       "2            1125  \n",
       "3            1125  \n",
       "4            1125  "
      ]
     },
     "execution_count": 23,
     "metadata": {},
     "output_type": "execute_result"
    }
   ],
   "source": [
    "# Remove the dollar sign and comma from the 'price' column\n",
    "cal_df['price'] = cal_df['price'].str.replace('$', '')\n",
    "cal_df['price'] = cal_df['price'].str.replace(',', '')\n",
    "\n",
    "# Remove dollar sign and comma from adjusted_price\n",
    "cal_df['adjusted_price'] = cal_df['adjusted_price'].str.replace('$', '')\n",
    "cal_df['adjusted_price'] = cal_df['adjusted_price'].str.replace(',', '')\n",
    "\n",
    "# Converting the two columns to float type\n",
    "cal_df['price'] = cal_df['price'].astype(float)\n",
    "cal_df['adjusted_price'] = cal_df['adjusted_price'].astype(float)\n",
    "\n",
    "# Now the two columns should have no dollar sign and be in float format\n",
    "cal_df.head()"
   ]
  },
  {
   "cell_type": "code",
   "execution_count": 24,
   "metadata": {},
   "outputs": [
    {
     "name": "stdout",
     "output_type": "stream",
     "text": [
      "The two columns are different.\n"
     ]
    }
   ],
   "source": [
    "#checking if there is a difference between price and adjusted price\n",
    "# Creating a new column to store the difference between the two columns\n",
    "cal_df['ColumnDiff'] = cal_df['price'] - cal_df['adjusted_price']\n",
    "\n",
    "# Check if there is any difference between the two columns\n",
    "if (cal_df['ColumnDiff'] == 0).all():\n",
    "    print('The two columns are the same.')\n",
    "else:\n",
    "    print('The two columns are different.')\n"
   ]
  },
  {
   "cell_type": "markdown",
   "metadata": {},
   "source": [
    "> As expected, the \"price\" and \"adjusted_price\" columns can differ when there are seasonal variations in the price of the listings."
   ]
  },
  {
   "cell_type": "markdown",
   "metadata": {},
   "source": [
    "## Exploratory Data Analysis"
   ]
  },
  {
   "cell_type": "markdown",
   "metadata": {},
   "source": [
    "Now that we are done with cleaning lets gain some insights, identify patterns, trends, and anomalies in the data."
   ]
  },
  {
   "cell_type": "markdown",
   "metadata": {},
   "source": [
    "#### 1. Best month to visit Cape Town on a budget:"
   ]
  },
  {
   "cell_type": "code",
   "execution_count": 25,
   "metadata": {
    "scrolled": false
   },
   "outputs": [
    {
     "data": {
      "image/png": "[encoded data removed]",
      "text/plain": [
       "<Figure size 432x288 with 1 Axes>"
      ]
     },
     "metadata": {
      "needs_background": "light"
     },
     "output_type": "display_data"
    }
   ],
   "source": [
    "# Convert the date column to a datetime format\n",
    "cal_df['date'] = pd.to_datetime(cal_df['date'], infer_datetime_format=True)\n",
    "\n",
    "# Group the data by month and calculate the average price per night\n",
    "avg_price_by_month = cal_df.groupby(cal_df['date'].dt.month)['price'].mean()\n",
    "\n",
    "# Visualize the average price per night by month\n",
    "fig, ax = plt.subplots()\n",
    "ax.bar(avg_price_by_month.index,avg_price_by_month.values, color='pink')\n",
    "ax.set_xlabel('Month')\n",
    "ax.set_ylabel('Average price per night')\n",
    "ax.set_title('Average price per night by month in Cape Town')\n",
    "plt.show()"
   ]
  },
  {
   "cell_type": "code",
   "execution_count": 26,
   "metadata": {
    "scrolled": true
   },
   "outputs": [
    {
     "data": {
      "image/png": "[encoded data removed]",
      "text/plain": [
       "<Figure size 432x288 with 1 Axes>"
      ]
     },
     "metadata": {
      "needs_background": "light"
     },
     "output_type": "display_data"
    }
   ],
   "source": [
    "# Group the data by month and calculate the average Adjusted price per night\n",
    "avg_adj_price_by_month = cal_df.groupby(cal_df['date'].dt.month)['adjusted_price'].mean()\n",
    "\n",
    "# Visualization of the average adjusted price per night by month\n",
    "fig, ax = plt.subplots()\n",
    "ax.bar(avg_adj_price_by_month.index, avg_adj_price_by_month.values)\n",
    "ax.set_xlabel('Month')\n",
    "ax.set_ylabel('Average price per night')\n",
    "ax.set_title('Average price per night by month in Cape Town')\n",
    "plt.show()"
   ]
  },
  {
   "cell_type": "markdown",
   "metadata": {},
   "source": [
    "###### Results\n",
    "* Based on the bar graphs, it appears that Cape Town's low season is between the months of June and september and this  may be the best time visit if you are on a budget. These months have the lowest average prices per night for Airbnb listings in Cape Town."
   ]
  },
  {
   "cell_type": "markdown",
   "metadata": {},
   "source": [
    "#### Comparison of Adjusted_price and Price "
   ]
  },
  {
   "cell_type": "code",
   "execution_count": 27,
   "metadata": {
    "scrolled": true
   },
   "outputs": [
    {
     "data": {
      "image/png": "[encoded data removed]",
      "text/plain": [
       "<Figure size 1080x432 with 1 Axes>"
      ]
     },
     "metadata": {
      "needs_background": "light"
     },
     "output_type": "display_data"
    }
   ],
   "source": [
    "#Visual Comparison of Adjusted_price and Price \n",
    "\n",
    "months = ['January', 'February', 'March', 'April', 'May', 'June', \n",
    "          'July', 'August', 'September', 'October', 'November', 'December']\n",
    "\n",
    "# Set the width of the bars\n",
    "bar_width = 0.5\n",
    "\n",
    "# Create a new figure\n",
    "fig, ax = plt.subplots(figsize=(15, 6))\n",
    "\n",
    "# Add the data to the double bar chart, label='\n",
    "ax.bar(months, avg_price_by_month, width=bar_width, color='pink', label='Regular price')\n",
    "ax.bar([x + bar_width for x in range(len(months))], avg_adj_price_by_month, width=bar_width, label='Adjusted price')\n",
    "\n",
    "# Set the title and axis labels\n",
    "ax.set_title('Prices by Months')\n",
    "ax.set_xlabel('Months')\n",
    "ax.set_ylabel('Price')\n",
    "\n",
    "# Add a legend\n",
    "ax.legend()\n",
    "\n",
    "# Display the chart\n",
    "plt.show()\n"
   ]
  },
  {
   "cell_type": "markdown",
   "metadata": {},
   "source": [
    "###### Results\n",
    "* Based on the visualization, there appears to be little variation between the regular price and adjusted price, The adjusted price is slightly higher during high seasons and slightly low during low seasons compared to the regular price for each month, but the difference is not significant."
   ]
  },
  {
   "cell_type": "markdown",
   "metadata": {},
   "source": [
    "#### Comparing the average price per night in high season with the low season "
   ]
  },
  {
   "cell_type": "code",
   "execution_count": 28,
   "metadata": {},
   "outputs": [
    {
     "data": {
      "image/png": "[encoded data removed]",
      "text/plain": [
       "<Figure size 432x288 with 1 Axes>"
      ]
     },
     "metadata": {
      "needs_background": "light"
     },
     "output_type": "display_data"
    }
   ],
   "source": [
    "# Resample the data to a monthly frequency\n",
    "avg_price_by_month.index = pd.to_datetime(avg_price_by_month.index, format='%m')\n",
    "average_price_by_month = avg_price_by_month.resample('M').mean()\n",
    "# Plot the time series of average price per night\n",
    "fig, ax = plt.subplots()\n",
    "ax.plot(average_price_by_month.index, average_price_by_month.values)\n",
    "ax.set_xlabel('Month')\n",
    "ax.set_ylabel('Average price per night')\n",
    "ax.set_title('Seasonal trends in Airbnb prices in Cape Town')\n",
    "plt.show()"
   ]
  },
  {
   "cell_type": "code",
   "execution_count": 29,
   "metadata": {},
   "outputs": [
    {
     "name": "stdout",
     "output_type": "stream",
     "text": [
      "Average price per night in high season: $ 3700.39\n",
      "Average price per night in low season: $ 3024.68\n",
      "Average Adjusted price per night in high season: $ 3699.26\n",
      "Average Adjusted price per night in low season: $ 3024.68\n"
     ]
    }
   ],
   "source": [
    "# Filtering the calendar data to include only December, January, June and July\n",
    "high_season = cal_df[(cal_df['date'].dt.month == 12) | (cal_df['date'].dt.month == 1)]\n",
    "low_season = cal_df[(cal_df['date'].dt.month == 6) | (cal_df['date'].dt.month == 7)]\n",
    "\n",
    "# Calculate the average price per night for each season\n",
    "avg_price_high_season = high_season['price'].mean()\n",
    "avg_price_low_season = low_season['price'].mean()\n",
    "avg_price_high_season1 = high_season['adjusted_price'].mean()\n",
    "avg_price_low_season1= low_season['adjusted_price'].mean()\n",
    "# Print the results\n",
    "print('Average price per night in high season: $', round(avg_price_high_season, 2))\n",
    "print('Average price per night in low season: $', round(avg_price_low_season, 2))\n",
    "print('Average Adjusted price per night in high season: $', round(avg_price_high_season1, 2))\n",
    "print('Average Adjusted price per night in low season: $', round(avg_price_low_season1, 2))"
   ]
  },
  {
   "cell_type": "code",
   "execution_count": 30,
   "metadata": {
    "scrolled": true
   },
   "outputs": [
    {
     "data": {
      "image/png": "[encoded data removed]",
      "text/plain": [
       "<Figure size 720x432 with 1 Axes>"
      ]
     },
     "metadata": {
      "needs_background": "light"
     },
     "output_type": "display_data"
    }
   ],
   "source": [
    "# Creating a boxplot of prices by month\n",
    "plt.figure(figsize=(10,6))\n",
    "sns.boxplot(x=cal_df['date'].dt.month, y=cal_df['price'])\n",
    "plt.xlabel('Month')\n",
    "plt.ylabel('Price')\n",
    "plt.title('Distribution of Airbnb prices by month in Cape Town')\n",
    "plt.show()"
   ]
  },
  {
   "cell_type": "markdown",
   "metadata": {},
   "source": [
    "##### Results\n"
   ]
  },
  {
   "cell_type": "markdown",
   "metadata": {},
   "source": [
    "### 2. Best time to list your property on Airbnb and set price rates:"
   ]
  },
  {
   "cell_type": "code",
   "execution_count": 31,
   "metadata": {
    "scrolled": false
   },
   "outputs": [
    {
     "name": "stdout",
     "output_type": "stream",
     "text": [
      "<class 'pandas.core.frame.DataFrame'>\n",
      "RangeIndex: 13649 entries, 0 to 13648\n",
      "Data columns (total 8 columns):\n",
      " #   Column          Non-Null Count  Dtype         \n",
      "---  ------          --------------  -----         \n",
      " 0   listing_id      13649 non-null  int64         \n",
      " 1   date            13649 non-null  datetime64[ns]\n",
      " 2   available       13649 non-null  object        \n",
      " 3   price           13649 non-null  float64       \n",
      " 4   adjusted_price  13649 non-null  float64       \n",
      " 5   minimum_nights  13649 non-null  int64         \n",
      " 6   maximum_nights  13649 non-null  int64         \n",
      " 7   ColumnDiff      13649 non-null  float64       \n",
      "dtypes: datetime64[ns](1), float64(3), int64(3), object(1)\n",
      "memory usage: 853.2+ KB\n"
     ]
    }
   ],
   "source": [
    "cal_df.info()"
   ]
  },
  {
   "cell_type": "code",
   "execution_count": 32,
   "metadata": {},
   "outputs": [
    {
     "data": {
      "text/plain": [
       "t    8177\n",
       "f    5472\n",
       "Name: available, dtype: int64"
      ]
     },
     "execution_count": 32,
     "metadata": {},
     "output_type": "execute_result"
    }
   ],
   "source": [
    "cal_df['available'].value_counts()"
   ]
  },
  {
   "cell_type": "code",
   "execution_count": 33,
   "metadata": {},
   "outputs": [],
   "source": [
    "#converting 'available' column to numeric\n",
    "cal_df['available'] = cal_df['available'].map({'t': 1, 'f': 0})"
   ]
  },
  {
   "cell_type": "code",
   "execution_count": 34,
   "metadata": {},
   "outputs": [
    {
     "data": {
      "image/png": "[encoded data removed]",
      "text/plain": [
       "<Figure size 576x432 with 1 Axes>"
      ]
     },
     "metadata": {
      "needs_background": "light"
     },
     "output_type": "display_data"
    }
   ],
   "source": [
    "# Extract month from the date column\n",
    "cal_df['month'] = cal_df['date'].dt.month\n",
    "# Group the data by month and calculate the occupancy rate\n",
    "occupancy_rate = cal_df.groupby('month')['available'].mean() * 100\n",
    "\n",
    "# Plot a time series of the occupancy rate\n",
    "fig, ax = plt.subplots(figsize=(8, 6))\n",
    "ax.plot(occupancy_rate.index, occupancy_rate.values, '-o')\n",
    "ax.set_xlabel('Month')\n",
    "ax.set_ylabel('Occupancy Rate (%)')\n",
    "ax.set_title('Occupancy Rate by Month')\n",
    "plt.show()"
   ]
  },
  {
   "cell_type": "markdown",
   "metadata": {},
   "source": [
    "#### Results\n",
    "* The occupancy rate for the property varies throughout the year, with the highest occupancy rates during the summer months from June to August. The occupancy rate is lowest during the winter months from December to February. The property has an average occupancy rate of around 65-70% during the peak season and around 20-30% during the off-season. Based on these results, it may be beneficial to list the property during the summer months when the occupancy rate is high and set higher prices during this time."
   ]
  },
  {
   "cell_type": "code",
   "execution_count": 35,
   "metadata": {},
   "outputs": [
    {
     "data": {
      "image/png": "[encoded data removed]",
      "text/plain": [
       "<Figure size 864x432 with 1 Axes>"
      ]
     },
     "metadata": {
      "needs_background": "light"
     },
     "output_type": "display_data"
    }
   ],
   "source": [
    "#the distribution of prices for each month \n",
    "# Create a figure and axis object\n",
    "fig, ax = plt.subplots(figsize=(12,6))\n",
    "\n",
    "# Create a boxplot for the price column\n",
    "ax.boxplot(cal_df['price'], positions=[1])\n",
    "\n",
    "# Create a boxplot for the adjusted price column\n",
    "ax.boxplot(cal_df['adjusted_price'], positions=[2])\n",
    "\n",
    "# Set the x-axis tick labels\n",
    "ax.set_xticks([1, 2])\n",
    "ax.set_xticklabels(['Price', 'Adjusted Price'])\n",
    "\n",
    "# Set the y-axis label\n",
    "ax.set_ylabel('Price')\n",
    "\n",
    "# Show the plot\n",
    "plt.show()\n"
   ]
  }
 ],
 "metadata": {
  "kernelspec": {
   "display_name": "Python (learn-env)",
   "language": "python",
   "name": "learn-env"
  },
  "language_info": {
   "codemirror_mode": {
    "name": "ipython",
    "version": 3
   },
   "file_extension": ".py",
   "mimetype": "text/x-python",
   "name": "python",
   "nbconvert_exporter": "python",
   "pygments_lexer": "ipython3",
   "version": "3.8.5"
  }
 },
 "nbformat": 4,
 "nbformat_minor": 4
}
