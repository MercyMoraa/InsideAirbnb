{
 "cells": [
  {
   "cell_type": "code",
   "execution_count": 1,
   "id": "ef6cbb13",
   "metadata": {},
   "outputs": [],
   "source": [
    "import numpy as np\n",
    "import pandas as pd\n",
    "import matplotlib.pyplot as plt\n",
    "import re\n",
    "import string\n",
    "\n",
    "from langdetect import detect\n",
    "\n",
    "from sklearn.feature_extraction.text import TfidfVectorizer\n",
    "from sklearn.metrics import mean_squared_error\n",
    "\n",
    "from nltk.sentiment.vader import SentimentIntensityAnalyzer\n",
    "from collections import Counter\n",
    "from scipy import stats\n",
    "from dateutil import parser\n",
    "\n",
    "import seaborn as sns\n",
    "import math\n",
    "# import shapely\n",
    "# from shapely.geometry import Point\n",
    "# import geopandas as gpd\n",
    "%matplotlib inline"
   ]
  },
  {
   "cell_type": "markdown",
   "id": "20b02dd6",
   "metadata": {},
   "source": [
    "## Read the cleaned data"
   ]
  },
  {
   "cell_type": "code",
   "execution_count": 4,
   "id": "33572785",
   "metadata": {},
   "outputs": [],
   "source": [
    "#loading the data\n",
    "listings = pd.read_csv('cleaned_data/listing_df_cleaned.csv')\n",
    "reviews = pd.read_csv('cleaned_data/review_df_cleaned.csv')"
   ]
  },
  {
   "cell_type": "code",
   "execution_count": 5,
   "id": "d3eade2c",
   "metadata": {},
   "outputs": [
    {
     "data": {
      "text/html": [
       "<div>\n",
       "<style scoped>\n",
       "    .dataframe tbody tr th:only-of-type {\n",
       "        vertical-align: middle;\n",
       "    }\n",
       "\n",
       "    .dataframe tbody tr th {\n",
       "        vertical-align: top;\n",
       "    }\n",
       "\n",
       "    .dataframe thead th {\n",
       "        text-align: right;\n",
       "    }\n",
       "</style>\n",
       "<table border=\"1\" class=\"dataframe\">\n",
       "  <thead>\n",
       "    <tr style=\"text-align: right;\">\n",
       "      <th></th>\n",
       "      <th>id</th>\n",
       "      <th>name</th>\n",
       "      <th>description</th>\n",
       "      <th>neighborhood_overview</th>\n",
       "      <th>host_id</th>\n",
       "      <th>host_url</th>\n",
       "      <th>host_name</th>\n",
       "      <th>host_since</th>\n",
       "      <th>host_location</th>\n",
       "      <th>host_about</th>\n",
       "      <th>...</th>\n",
       "      <th>review_scores_checkin</th>\n",
       "      <th>review_scores_communication</th>\n",
       "      <th>review_scores_location</th>\n",
       "      <th>review_scores_value</th>\n",
       "      <th>instant_bookable</th>\n",
       "      <th>calculated_host_listings_count</th>\n",
       "      <th>calculated_host_listings_count_entire_homes</th>\n",
       "      <th>calculated_host_listings_count_private_rooms</th>\n",
       "      <th>calculated_host_listings_count_shared_rooms</th>\n",
       "      <th>reviews_per_month</th>\n",
       "    </tr>\n",
       "  </thead>\n",
       "  <tbody>\n",
       "    <tr>\n",
       "      <th>0</th>\n",
       "      <td>1625734</td>\n",
       "      <td>Fabulous Villa, Large Entertainment Area Patio...</td>\n",
       "      <td>You will love this fabulous Villa! Expansive l...</td>\n",
       "      <td>Located next to the Constantia Wine Lands home...</td>\n",
       "      <td>8643899</td>\n",
       "      <td>https://www.airbnb.com/users/show/8643899</td>\n",
       "      <td>Linda</td>\n",
       "      <td>9/5/2013</td>\n",
       "      <td>Cape Town, South Africa</td>\n",
       "      <td>Missing</td>\n",
       "      <td>...</td>\n",
       "      <td>5.00</td>\n",
       "      <td>5.00</td>\n",
       "      <td>5.00</td>\n",
       "      <td>5.00</td>\n",
       "      <td>f</td>\n",
       "      <td>4</td>\n",
       "      <td>3</td>\n",
       "      <td>1</td>\n",
       "      <td>0</td>\n",
       "      <td>0.10</td>\n",
       "    </tr>\n",
       "    <tr>\n",
       "      <th>1</th>\n",
       "      <td>1626659</td>\n",
       "      <td>Big Bay La Paloma - 2 bedroom suite</td>\n",
       "      <td>Enjoy the beautiful Bloubergstrand ~ Cape Town...</td>\n",
       "      <td>Big Bay Homestay is situated in the the tranqu...</td>\n",
       "      <td>5646468</td>\n",
       "      <td>https://www.airbnb.com/users/show/5646468</td>\n",
       "      <td>Madeleine</td>\n",
       "      <td>3/27/2013</td>\n",
       "      <td>Cape Town, South Africa</td>\n",
       "      <td>I love Cape Town and I am passionate to share ...</td>\n",
       "      <td>...</td>\n",
       "      <td>5.00</td>\n",
       "      <td>5.00</td>\n",
       "      <td>4.83</td>\n",
       "      <td>4.92</td>\n",
       "      <td>f</td>\n",
       "      <td>2</td>\n",
       "      <td>0</td>\n",
       "      <td>2</td>\n",
       "      <td>0</td>\n",
       "      <td>0.11</td>\n",
       "    </tr>\n",
       "    <tr>\n",
       "      <th>2</th>\n",
       "      <td>736534</td>\n",
       "      <td>Enjoy a Private Room in Chartfield Guesthouse</td>\n",
       "      <td>Awaken in a stylish private room to fresh coff...</td>\n",
       "      <td>A gem on the False Bay coastline, Kalk Bay is ...</td>\n",
       "      <td>3007248</td>\n",
       "      <td>https://www.airbnb.com/users/show/3007248</td>\n",
       "      <td>Florian</td>\n",
       "      <td>7/21/2012</td>\n",
       "      <td>Cape Town, South Africa</td>\n",
       "      <td>We are based in Cape Town, South Africa and ru...</td>\n",
       "      <td>...</td>\n",
       "      <td>4.96</td>\n",
       "      <td>4.75</td>\n",
       "      <td>5.00</td>\n",
       "      <td>4.83</td>\n",
       "      <td>t</td>\n",
       "      <td>18</td>\n",
       "      <td>13</td>\n",
       "      <td>5</td>\n",
       "      <td>0</td>\n",
       "      <td>0.82</td>\n",
       "    </tr>\n",
       "    <tr>\n",
       "      <th>3</th>\n",
       "      <td>742345</td>\n",
       "      <td>Room with a View - Green Point</td>\n",
       "      <td>Fully furnished studio apartment with a fully ...</td>\n",
       "      <td>Missing</td>\n",
       "      <td>3886732</td>\n",
       "      <td>https://www.airbnb.com/users/show/3886732</td>\n",
       "      <td>Koos</td>\n",
       "      <td>10/16/2012</td>\n",
       "      <td>Cape Town, South Africa</td>\n",
       "      <td>Founder of Stay In Cape Town which was born in...</td>\n",
       "      <td>...</td>\n",
       "      <td>4.08</td>\n",
       "      <td>4.00</td>\n",
       "      <td>4.33</td>\n",
       "      <td>3.83</td>\n",
       "      <td>t</td>\n",
       "      <td>80</td>\n",
       "      <td>79</td>\n",
       "      <td>1</td>\n",
       "      <td>0</td>\n",
       "      <td>0.29</td>\n",
       "    </tr>\n",
       "    <tr>\n",
       "      <th>4</th>\n",
       "      <td>3191</td>\n",
       "      <td>Malleson Garden Cottage</td>\n",
       "      <td>This is a lovely, separate, self-catering cott...</td>\n",
       "      <td>Mowbray is on the Southern Suburbs line, 6km (...</td>\n",
       "      <td>3754</td>\n",
       "      <td>https://www.airbnb.com/users/show/3754</td>\n",
       "      <td>Brigitte</td>\n",
       "      <td>10/21/2008</td>\n",
       "      <td>Cape Town, South Africa</td>\n",
       "      <td>I'm single and love to travel and meeting peop...</td>\n",
       "      <td>...</td>\n",
       "      <td>4.97</td>\n",
       "      <td>4.96</td>\n",
       "      <td>4.75</td>\n",
       "      <td>4.79</td>\n",
       "      <td>t</td>\n",
       "      <td>1</td>\n",
       "      <td>1</td>\n",
       "      <td>0</td>\n",
       "      <td>0</td>\n",
       "      <td>0.60</td>\n",
       "    </tr>\n",
       "  </tbody>\n",
       "</table>\n",
       "<p>5 rows × 60 columns</p>\n",
       "</div>"
      ],
      "text/plain": [
       "        id                                               name  \\\n",
       "0  1625734  Fabulous Villa, Large Entertainment Area Patio...   \n",
       "1  1626659                Big Bay La Paloma - 2 bedroom suite   \n",
       "2   736534      Enjoy a Private Room in Chartfield Guesthouse   \n",
       "3   742345                     Room with a View - Green Point   \n",
       "4     3191                            Malleson Garden Cottage   \n",
       "\n",
       "                                         description  \\\n",
       "0  You will love this fabulous Villa! Expansive l...   \n",
       "1  Enjoy the beautiful Bloubergstrand ~ Cape Town...   \n",
       "2  Awaken in a stylish private room to fresh coff...   \n",
       "3  Fully furnished studio apartment with a fully ...   \n",
       "4  This is a lovely, separate, self-catering cott...   \n",
       "\n",
       "                               neighborhood_overview  host_id  \\\n",
       "0  Located next to the Constantia Wine Lands home...  8643899   \n",
       "1  Big Bay Homestay is situated in the the tranqu...  5646468   \n",
       "2  A gem on the False Bay coastline, Kalk Bay is ...  3007248   \n",
       "3                                            Missing  3886732   \n",
       "4  Mowbray is on the Southern Suburbs line, 6km (...     3754   \n",
       "\n",
       "                                    host_url  host_name  host_since  \\\n",
       "0  https://www.airbnb.com/users/show/8643899      Linda    9/5/2013   \n",
       "1  https://www.airbnb.com/users/show/5646468  Madeleine   3/27/2013   \n",
       "2  https://www.airbnb.com/users/show/3007248    Florian   7/21/2012   \n",
       "3  https://www.airbnb.com/users/show/3886732       Koos  10/16/2012   \n",
       "4     https://www.airbnb.com/users/show/3754   Brigitte  10/21/2008   \n",
       "\n",
       "             host_location                                         host_about  \\\n",
       "0  Cape Town, South Africa                                            Missing   \n",
       "1  Cape Town, South Africa  I love Cape Town and I am passionate to share ...   \n",
       "2  Cape Town, South Africa  We are based in Cape Town, South Africa and ru...   \n",
       "3  Cape Town, South Africa  Founder of Stay In Cape Town which was born in...   \n",
       "4  Cape Town, South Africa  I'm single and love to travel and meeting peop...   \n",
       "\n",
       "   ... review_scores_checkin review_scores_communication  \\\n",
       "0  ...                  5.00                        5.00   \n",
       "1  ...                  5.00                        5.00   \n",
       "2  ...                  4.96                        4.75   \n",
       "3  ...                  4.08                        4.00   \n",
       "4  ...                  4.97                        4.96   \n",
       "\n",
       "  review_scores_location review_scores_value  instant_bookable  \\\n",
       "0                   5.00                5.00                 f   \n",
       "1                   4.83                4.92                 f   \n",
       "2                   5.00                4.83                 t   \n",
       "3                   4.33                3.83                 t   \n",
       "4                   4.75                4.79                 t   \n",
       "\n",
       "   calculated_host_listings_count calculated_host_listings_count_entire_homes  \\\n",
       "0                               4                                           3   \n",
       "1                               2                                           0   \n",
       "2                              18                                          13   \n",
       "3                              80                                          79   \n",
       "4                               1                                           1   \n",
       "\n",
       "  calculated_host_listings_count_private_rooms  \\\n",
       "0                                            1   \n",
       "1                                            2   \n",
       "2                                            5   \n",
       "3                                            1   \n",
       "4                                            0   \n",
       "\n",
       "  calculated_host_listings_count_shared_rooms reviews_per_month  \n",
       "0                                           0              0.10  \n",
       "1                                           0              0.11  \n",
       "2                                           0              0.82  \n",
       "3                                           0              0.29  \n",
       "4                                           0              0.60  \n",
       "\n",
       "[5 rows x 60 columns]"
      ]
     },
     "execution_count": 5,
     "metadata": {},
     "output_type": "execute_result"
    }
   ],
   "source": [
    "# checking the first five rows\n",
    "listings.head()"
   ]
  },
  {
   "cell_type": "code",
   "execution_count": 6,
   "id": "10afb806",
   "metadata": {},
   "outputs": [
    {
     "data": {
      "text/html": [
       "<div>\n",
       "<style scoped>\n",
       "    .dataframe tbody tr th:only-of-type {\n",
       "        vertical-align: middle;\n",
       "    }\n",
       "\n",
       "    .dataframe tbody tr th {\n",
       "        vertical-align: top;\n",
       "    }\n",
       "\n",
       "    .dataframe thead th {\n",
       "        text-align: right;\n",
       "    }\n",
       "</style>\n",
       "<table border=\"1\" class=\"dataframe\">\n",
       "  <thead>\n",
       "    <tr style=\"text-align: right;\">\n",
       "      <th></th>\n",
       "      <th>listing_id</th>\n",
       "      <th>id</th>\n",
       "      <th>date</th>\n",
       "      <th>reviewer_id</th>\n",
       "      <th>reviewer_name</th>\n",
       "      <th>comments</th>\n",
       "    </tr>\n",
       "  </thead>\n",
       "  <tbody>\n",
       "    <tr>\n",
       "      <th>0</th>\n",
       "      <td>3191</td>\n",
       "      <td>4888238.0</td>\n",
       "      <td>5/31/2013</td>\n",
       "      <td>5737473</td>\n",
       "      <td>Kathleen</td>\n",
       "      <td>Great home away from home! Bridgette and Marth...</td>\n",
       "    </tr>\n",
       "    <tr>\n",
       "      <th>1</th>\n",
       "      <td>3191</td>\n",
       "      <td>9128602.0</td>\n",
       "      <td>12/9/2013</td>\n",
       "      <td>8170322</td>\n",
       "      <td>Anita</td>\n",
       "      <td>Das Cottage liegt ruhig und sicher.  Wir haben...</td>\n",
       "    </tr>\n",
       "    <tr>\n",
       "      <th>2</th>\n",
       "      <td>3191</td>\n",
       "      <td>9924130.0</td>\n",
       "      <td>1/20/2014</td>\n",
       "      <td>4039279</td>\n",
       "      <td>Zacki</td>\n",
       "      <td>This cottage was a great base from which to ex...</td>\n",
       "    </tr>\n",
       "    <tr>\n",
       "      <th>3</th>\n",
       "      <td>3191</td>\n",
       "      <td>16659537.0</td>\n",
       "      <td>7/31/2014</td>\n",
       "      <td>9729939</td>\n",
       "      <td>Doug</td>\n",
       "      <td>I had a great stay.  All my needs were well ex...</td>\n",
       "    </tr>\n",
       "    <tr>\n",
       "      <th>4</th>\n",
       "      <td>3191</td>\n",
       "      <td>23247470.0</td>\n",
       "      <td>11/26/2014</td>\n",
       "      <td>9681619</td>\n",
       "      <td>Christopher</td>\n",
       "      <td>Excellent host. She provided everything we cou...</td>\n",
       "    </tr>\n",
       "  </tbody>\n",
       "</table>\n",
       "</div>"
      ],
      "text/plain": [
       "   listing_id          id        date  reviewer_id reviewer_name  \\\n",
       "0        3191   4888238.0   5/31/2013      5737473      Kathleen   \n",
       "1        3191   9128602.0   12/9/2013      8170322         Anita   \n",
       "2        3191   9924130.0   1/20/2014      4039279         Zacki   \n",
       "3        3191  16659537.0   7/31/2014      9729939          Doug   \n",
       "4        3191  23247470.0  11/26/2014      9681619   Christopher   \n",
       "\n",
       "                                            comments  \n",
       "0  Great home away from home! Bridgette and Marth...  \n",
       "1  Das Cottage liegt ruhig und sicher.  Wir haben...  \n",
       "2  This cottage was a great base from which to ex...  \n",
       "3  I had a great stay.  All my needs were well ex...  \n",
       "4  Excellent host. She provided everything we cou...  "
      ]
     },
     "execution_count": 6,
     "metadata": {},
     "output_type": "execute_result"
    }
   ],
   "source": [
    "#chech the first five rows\n",
    "reviews.head()"
   ]
  },
  {
   "cell_type": "code",
   "execution_count": 58,
   "id": "608783e9",
   "metadata": {},
   "outputs": [
    {
     "data": {
      "text/plain": [
       "'Das Cottage liegt ruhig und sicher.  Wir haben alles gefunden was wir benÌ¦tigten. Mit dem Auto ist man in gut zehn Minuten in der City oder Waterfront.  Der Empfang durch Brigitte  war sehr nett und sie hatte schon Wein und einige Kleinigkeiten zum Essen besorgt.'"
      ]
     },
     "execution_count": 58,
     "metadata": {},
     "output_type": "execute_result"
    }
   ],
   "source": [
    "reviews['comments'][1]"
   ]
  },
  {
   "cell_type": "markdown",
   "id": "c8622387",
   "metadata": {},
   "source": [
    "As we can see we have the text in Spanish or which language is that?"
   ]
  },
  {
   "cell_type": "markdown",
   "id": "912294c9",
   "metadata": {},
   "source": [
    "# Preprocessing 'comments' for Sentiment Analysis"
   ]
  },
  {
   "cell_type": "code",
   "execution_count": 8,
   "id": "5989c3da",
   "metadata": {},
   "outputs": [
    {
     "data": {
      "text/plain": [
       "listing_id       0\n",
       "id               0\n",
       "date             0\n",
       "reviewer_id      0\n",
       "reviewer_name    0\n",
       "comments         0\n",
       "dtype: int64"
      ]
     },
     "execution_count": 8,
     "metadata": {},
     "output_type": "execute_result"
    }
   ],
   "source": [
    "reviews.isnull().sum()"
   ]
  },
  {
   "cell_type": "code",
   "execution_count": 9,
   "id": "458808b4",
   "metadata": {},
   "outputs": [
    {
     "data": {
      "text/plain": [
       "85"
      ]
     },
     "execution_count": 9,
     "metadata": {},
     "output_type": "execute_result"
    }
   ],
   "source": [
    "reviews['comments'].str.match('The host canceled this reservation').sum()"
   ]
  },
  {
   "cell_type": "markdown",
   "id": "899927de",
   "metadata": {},
   "source": [
    "Step to consider\n",
    "* Remove rows with the text 'Host canceled this booking x days before'\n",
    "* Remove numeric and hyphen characters from the text\n",
    "* Detect the language of each review using the 'langdetect' module\n",
    "* Remove all reviews that are not in English\n",
    "* Keep capitalizations and punctuation, as they are handled well by the sentiment analysis using Vader"
   ]
  },
  {
   "cell_type": "code",
   "execution_count": 10,
   "id": "df5a370c",
   "metadata": {},
   "outputs": [],
   "source": [
    "# Get the indices of rows that contain the string 'The host canceled this reservation' in the 'comments' column\n",
    "index_canceled = reviews[ reviews['comments'].str.match('The host canceled this reservation')].index\n",
    "\n",
    "# Drop the rows with the matching indices from the DataFrame\n",
    "reviews.drop(index_canceled, inplace=True)\n",
    "\n",
    "# Get the indices of rows that contain the '-' character in the 'comments' column\n",
    "index_dash = reviews[ reviews['comments'].str.match('-')].index\n",
    "\n",
    "# Drop the rows with the matching indices from the DataFrame\n",
    "reviews.drop(index_dash, inplace=True)\n",
    "\n",
    "# Define a lambda function to remove any alphanumeric characters that have digits in them\n",
    "alphanumeric = lambda x: re.sub('\\w*\\d\\w*', ' ', x)\n",
    "\n",
    "# Apply the lambda function to the 'comments' column of the DataFrame using the 'map()' method\n",
    "reviews['comments'] = reviews['comments'].map(alphanumeric)\n"
   ]
  },
  {
   "cell_type": "code",
   "execution_count": 11,
   "id": "f7d42901",
   "metadata": {},
   "outputs": [],
   "source": [
    "reviews.reset_index(inplace=True, drop=True)"
   ]
  },
  {
   "cell_type": "markdown",
   "id": "ced9d11e",
   "metadata": {},
   "source": [
    "The code below uses the 'detect()' function from the 'langdetect' module to detect the language of each comment in the 'comments' column of the 'reviews' DataFrame. If an error occurs during language detection (e.g., the comment is too short to detect the language), the code increments a counter and stores the index of the row with the error in a list called 'err'. The error message for each row with an error is also printed to the console."
   ]
  },
  {
   "cell_type": "code",
   "execution_count": 12,
   "id": "790b07cb",
   "metadata": {
    "scrolled": true
   },
   "outputs": [
    {
     "name": "stdout",
     "output_type": "stream",
     "text": [
      "This row throws an error: .\n",
      "This row throws an error: .\n",
      "This row throws an error: ...\n",
      "This row throws an error: .\n",
      "This row throws an error: .\n",
      "This row throws an error: .\n",
      "This row throws an error: ?ÙÔ\n",
      "This row throws an error: .\n",
      "This row throws an error: .\n",
      "This row throws an error: .\n",
      "This row throws an error: ...\n",
      "This row throws an error: .\n",
      "This row throws an error: !\n"
     ]
    }
   ],
   "source": [
    "# Initialize counters and a list to store error indices\n",
    "num_errors = 0\n",
    "err = []\n",
    "\n",
    "# Loop through each row in the 'reviews' DataFrame using the 'iterrows()' method\n",
    "for index, row in reviews.iterrows():\n",
    "    try:\n",
    "        # Use the 'detect()' function from the 'langdetect' module to detect the language of the comment in the current row\n",
    "        language = detect(row['comments'])\n",
    "    except:\n",
    "        # If an error occurs (e.g., the comment is too short to detect the language), increment the error counter and store the row index in the 'err' list\n",
    "        num_errors += 1\n",
    "        err.append(index)\n",
    "        print(\"This row throws an error:\", row['comments'])\n"
   ]
  },
  {
   "cell_type": "markdown",
   "id": "f9e1e2a4",
   "metadata": {},
   "source": [
    "Calculating the percentage of comments that threw errors during language detection."
   ]
  },
  {
   "cell_type": "code",
   "execution_count": 13,
   "id": "59a125f0",
   "metadata": {},
   "outputs": [
    {
     "name": "stdout",
     "output_type": "stream",
     "text": [
      "0.10% of entries for language identification threw errors\n"
     ]
    }
   ],
   "source": [
    "# Calculate the percentage of comments that threw errors during language detection\n",
    "error_percentage = num_errors / reviews.shape[0] * 100\n",
    "\n",
    "# Print the error percentage with two decimal places\n",
    "print('{:.2f}% of entries for language identification threw errors'.format(error_percentage))\n"
   ]
  },
  {
   "cell_type": "code",
   "execution_count": 14,
   "id": "bdec8967",
   "metadata": {},
   "outputs": [],
   "source": [
    "# Seems to be due to empty entries with arbitrary number of white spaces and/or punctuations, drop those rows\n",
    "reviews.drop(err, axis=0, inplace=True)"
   ]
  },
  {
   "cell_type": "code",
   "execution_count": 15,
   "id": "0ffee1ed",
   "metadata": {},
   "outputs": [],
   "source": [
    "reviews.reset_index(inplace=True, drop=True)"
   ]
  },
  {
   "cell_type": "code",
   "execution_count": 16,
   "id": "9b84c722",
   "metadata": {},
   "outputs": [],
   "source": [
    "# and create new col 'language' with detected language\n",
    "reviews['language'] = reviews['comments'].apply(detect)"
   ]
  },
  {
   "cell_type": "code",
   "execution_count": 17,
   "id": "4cd644a7",
   "metadata": {},
   "outputs": [
    {
     "data": {
      "text/html": [
       "<div>\n",
       "<style scoped>\n",
       "    .dataframe tbody tr th:only-of-type {\n",
       "        vertical-align: middle;\n",
       "    }\n",
       "\n",
       "    .dataframe tbody tr th {\n",
       "        vertical-align: top;\n",
       "    }\n",
       "\n",
       "    .dataframe thead th {\n",
       "        text-align: right;\n",
       "    }\n",
       "</style>\n",
       "<table border=\"1\" class=\"dataframe\">\n",
       "  <thead>\n",
       "    <tr style=\"text-align: right;\">\n",
       "      <th></th>\n",
       "      <th>listing_id</th>\n",
       "      <th>id</th>\n",
       "      <th>date</th>\n",
       "      <th>reviewer_id</th>\n",
       "      <th>reviewer_name</th>\n",
       "      <th>comments</th>\n",
       "      <th>language</th>\n",
       "    </tr>\n",
       "  </thead>\n",
       "  <tbody>\n",
       "    <tr>\n",
       "      <th>0</th>\n",
       "      <td>3191</td>\n",
       "      <td>4888238.0</td>\n",
       "      <td>5/31/2013</td>\n",
       "      <td>5737473</td>\n",
       "      <td>Kathleen</td>\n",
       "      <td>Great home away from home! Bridgette and Marth...</td>\n",
       "      <td>en</td>\n",
       "    </tr>\n",
       "    <tr>\n",
       "      <th>1</th>\n",
       "      <td>3191</td>\n",
       "      <td>9128602.0</td>\n",
       "      <td>12/9/2013</td>\n",
       "      <td>8170322</td>\n",
       "      <td>Anita</td>\n",
       "      <td>Das Cottage liegt ruhig und sicher.  Wir haben...</td>\n",
       "      <td>de</td>\n",
       "    </tr>\n",
       "    <tr>\n",
       "      <th>2</th>\n",
       "      <td>3191</td>\n",
       "      <td>9924130.0</td>\n",
       "      <td>1/20/2014</td>\n",
       "      <td>4039279</td>\n",
       "      <td>Zacki</td>\n",
       "      <td>This cottage was a great base from which to ex...</td>\n",
       "      <td>en</td>\n",
       "    </tr>\n",
       "    <tr>\n",
       "      <th>3</th>\n",
       "      <td>3191</td>\n",
       "      <td>16659537.0</td>\n",
       "      <td>7/31/2014</td>\n",
       "      <td>9729939</td>\n",
       "      <td>Doug</td>\n",
       "      <td>I had a great stay.  All my needs were well ex...</td>\n",
       "      <td>en</td>\n",
       "    </tr>\n",
       "    <tr>\n",
       "      <th>4</th>\n",
       "      <td>3191</td>\n",
       "      <td>23247470.0</td>\n",
       "      <td>11/26/2014</td>\n",
       "      <td>9681619</td>\n",
       "      <td>Christopher</td>\n",
       "      <td>Excellent host. She provided everything we cou...</td>\n",
       "      <td>en</td>\n",
       "    </tr>\n",
       "  </tbody>\n",
       "</table>\n",
       "</div>"
      ],
      "text/plain": [
       "   listing_id          id        date  reviewer_id reviewer_name  \\\n",
       "0        3191   4888238.0   5/31/2013      5737473      Kathleen   \n",
       "1        3191   9128602.0   12/9/2013      8170322         Anita   \n",
       "2        3191   9924130.0   1/20/2014      4039279         Zacki   \n",
       "3        3191  16659537.0   7/31/2014      9729939          Doug   \n",
       "4        3191  23247470.0  11/26/2014      9681619   Christopher   \n",
       "\n",
       "                                            comments language  \n",
       "0  Great home away from home! Bridgette and Marth...       en  \n",
       "1  Das Cottage liegt ruhig und sicher.  Wir haben...       de  \n",
       "2  This cottage was a great base from which to ex...       en  \n",
       "3  I had a great stay.  All my needs were well ex...       en  \n",
       "4  Excellent host. She provided everything we cou...       en  "
      ]
     },
     "execution_count": 17,
     "metadata": {},
     "output_type": "execute_result"
    }
   ],
   "source": [
    "reviews.head()"
   ]
  },
  {
   "cell_type": "code",
   "execution_count": 74,
   "id": "c9702ebe",
   "metadata": {},
   "outputs": [
    {
     "data": {
      "text/html": [
       "<div>\n",
       "<style scoped>\n",
       "    .dataframe tbody tr th:only-of-type {\n",
       "        vertical-align: middle;\n",
       "    }\n",
       "\n",
       "    .dataframe tbody tr th {\n",
       "        vertical-align: top;\n",
       "    }\n",
       "\n",
       "    .dataframe thead th {\n",
       "        text-align: right;\n",
       "    }\n",
       "</style>\n",
       "<table border=\"1\" class=\"dataframe\">\n",
       "  <thead>\n",
       "    <tr style=\"text-align: right;\">\n",
       "      <th></th>\n",
       "      <th>listing_id</th>\n",
       "      <th>id</th>\n",
       "      <th>date</th>\n",
       "      <th>reviewer_id</th>\n",
       "      <th>reviewer_name</th>\n",
       "      <th>comments</th>\n",
       "      <th>language</th>\n",
       "    </tr>\n",
       "  </thead>\n",
       "  <tbody>\n",
       "    <tr>\n",
       "      <th>13542</th>\n",
       "      <td>2037869</td>\n",
       "      <td>232935888.0</td>\n",
       "      <td>2/7/2018</td>\n",
       "      <td>57739362</td>\n",
       "      <td>Alexander</td>\n",
       "      <td>We Had a fantastic time at Gideon's place. He'...</td>\n",
       "      <td>en</td>\n",
       "    </tr>\n",
       "    <tr>\n",
       "      <th>13543</th>\n",
       "      <td>2037869</td>\n",
       "      <td>234328922.0</td>\n",
       "      <td>2/12/2018</td>\n",
       "      <td>20256866</td>\n",
       "      <td>Seda</td>\n",
       "      <td>Amazing host! Super chilled Mozart fan :)&lt;br/&gt;...</td>\n",
       "      <td>en</td>\n",
       "    </tr>\n",
       "    <tr>\n",
       "      <th>13544</th>\n",
       "      <td>2037869</td>\n",
       "      <td>235034210.0</td>\n",
       "      <td>2/15/2018</td>\n",
       "      <td>148969980</td>\n",
       "      <td>Dominique</td>\n",
       "      <td>Vielen Dank fÌ?r Deine Gastfreundschaft auch w...</td>\n",
       "      <td>de</td>\n",
       "    </tr>\n",
       "    <tr>\n",
       "      <th>13545</th>\n",
       "      <td>2037869</td>\n",
       "      <td>237049452.0</td>\n",
       "      <td>2/21/2018</td>\n",
       "      <td>8843478</td>\n",
       "      <td>Fabienne</td>\n",
       "      <td>Best place to stay for a trip in cape town! We...</td>\n",
       "      <td>en</td>\n",
       "    </tr>\n",
       "    <tr>\n",
       "      <th>13546</th>\n",
       "      <td>2037869</td>\n",
       "      <td>239563685.0</td>\n",
       "      <td>3/2/2018</td>\n",
       "      <td>20779566</td>\n",
       "      <td>Scott</td>\n",
       "      <td>It was such a pleasure to stay at GideonÛªs! ...</td>\n",
       "      <td>en</td>\n",
       "    </tr>\n",
       "  </tbody>\n",
       "</table>\n",
       "</div>"
      ],
      "text/plain": [
       "       listing_id           id       date  reviewer_id reviewer_name  \\\n",
       "13542     2037869  232935888.0   2/7/2018     57739362     Alexander   \n",
       "13543     2037869  234328922.0  2/12/2018     20256866          Seda   \n",
       "13544     2037869  235034210.0  2/15/2018    148969980     Dominique   \n",
       "13545     2037869  237049452.0  2/21/2018      8843478      Fabienne   \n",
       "13546     2037869  239563685.0   3/2/2018     20779566         Scott   \n",
       "\n",
       "                                                comments language  \n",
       "13542  We Had a fantastic time at Gideon's place. He'...       en  \n",
       "13543  Amazing host! Super chilled Mozart fan :)<br/>...       en  \n",
       "13544  Vielen Dank fÌ?r Deine Gastfreundschaft auch w...       de  \n",
       "13545  Best place to stay for a trip in cape town! We...       en  \n",
       "13546  It was such a pleasure to stay at GideonÛªs! ...       en  "
      ]
     },
     "execution_count": 74,
     "metadata": {},
     "output_type": "execute_result"
    }
   ],
   "source": [
    "reviews.tail()"
   ]
  },
  {
   "cell_type": "code",
   "execution_count": 61,
   "id": "aa65cc28",
   "metadata": {},
   "outputs": [
    {
     "data": {
      "image/png": "[encoded data removed]",
      "text/plain": [
       "<Figure size 432x288 with 1 Axes>"
      ]
     },
     "metadata": {
      "needs_background": "light"
     },
     "output_type": "display_data"
    }
   ],
   "source": [
    "# Get the value counts of the 'language' column in the 'reviews' DataFrame\n",
    "language_counts = reviews['language'].value_counts()\n",
    "\n",
    "# Create a bar plot of the language counts using the 'plot.bar()' method\n",
    "language_counts.plot.bar()\n",
    "\n",
    "# Display the plot\n",
    "plt.show()\n"
   ]
  },
  {
   "cell_type": "code",
   "execution_count": 19,
   "id": "46dadfdd",
   "metadata": {},
   "outputs": [
    {
     "name": "stdout",
     "output_type": "stream",
     "text": [
      "8.95% of all entries are not in English\n"
     ]
    }
   ],
   "source": [
    "# Make a copy of the 'reviews' DataFrame called 'reviews_en' to preserve the original DataFrame\n",
    "reviews_en = reviews.copy(deep=True)\n",
    "\n",
    "# Find the indexes of all non-English comments by using the \"~\" symbol to invert the Boolean values returned by the 'str.match()' method\n",
    "index_nonen = reviews_en[~reviews_en['language'].str.match('en')].index\n",
    "\n",
    "# Calculate the percentage of non-English comments by dividing the length of the 'index_nonen' list by the total number of rows in the 'reviews_en' DataFrame\n",
    "nonen_percentage = len(index_nonen) / reviews_en.shape[0] * 100\n",
    "\n",
    "# Print the percentage of non-English comments with two decimal places\n",
    "print('{:.2f}% of all entries are not in English'.format(nonen_percentage))"
   ]
  },
  {
   "cell_type": "code",
   "execution_count": 20,
   "id": "01ee82cc",
   "metadata": {},
   "outputs": [],
   "source": [
    "# drop\n",
    "reviews_en.drop(index_nonen, inplace=True)"
   ]
  },
  {
   "cell_type": "markdown",
   "id": "8f06b002",
   "metadata": {},
   "source": [
    "# Estimate polarity using VADER"
   ]
  },
  {
   "cell_type": "markdown",
   "id": "9e9d2eb2",
   "metadata": {},
   "source": [
    "VADER (Valence Aware Dictionary and sEntiment Reasoner) is a tool for sentiment analysis built into the Natural Language Toolkit (nltk) library in Python. It is designed to identify and extract the polarity (positive, negative, or neutral) and intensity of sentiment expressed in a given piece of text, such as a sentence, paragraph, or document."
   ]
  },
  {
   "cell_type": "code",
   "execution_count": 32,
   "id": "9f679b7f",
   "metadata": {},
   "outputs": [
    {
     "name": "stderr",
     "output_type": "stream",
     "text": [
      "[nltk_data] Downloading package vader_lexicon to\n",
      "[nltk_data]     C:\\Users\\ADMIN\\AppData\\Roaming\\nltk_data...\n",
      "[nltk_data]   Package vader_lexicon is already up-to-date!\n"
     ]
    }
   ],
   "source": [
    "import nltk\n",
    "nltk.download('vader_lexicon')\n",
    "from nltk.sentiment.vader import SentimentIntensityAnalyzer\n",
    "\n",
    "# Initialize the VADER sentiment analyzer\n",
    "analyzer = SentimentIntensityAnalyzer()\n"
   ]
  },
  {
   "cell_type": "code",
   "execution_count": 73,
   "id": "553720e4",
   "metadata": {},
   "outputs": [
    {
     "data": {
      "text/html": [
       "<div>\n",
       "<style scoped>\n",
       "    .dataframe tbody tr th:only-of-type {\n",
       "        vertical-align: middle;\n",
       "    }\n",
       "\n",
       "    .dataframe tbody tr th {\n",
       "        vertical-align: top;\n",
       "    }\n",
       "\n",
       "    .dataframe thead th {\n",
       "        text-align: right;\n",
       "    }\n",
       "</style>\n",
       "<table border=\"1\" class=\"dataframe\">\n",
       "  <thead>\n",
       "    <tr style=\"text-align: right;\">\n",
       "      <th></th>\n",
       "      <th>0</th>\n",
       "    </tr>\n",
       "  </thead>\n",
       "  <tbody>\n",
       "    <tr>\n",
       "      <th>neg</th>\n",
       "      <td>0.0800</td>\n",
       "    </tr>\n",
       "    <tr>\n",
       "      <th>neu</th>\n",
       "      <td>0.8410</td>\n",
       "    </tr>\n",
       "    <tr>\n",
       "      <th>pos</th>\n",
       "      <td>0.0790</td>\n",
       "    </tr>\n",
       "    <tr>\n",
       "      <th>compound</th>\n",
       "      <td>-0.0083</td>\n",
       "    </tr>\n",
       "  </tbody>\n",
       "</table>\n",
       "</div>"
      ],
      "text/plain": [
       "               0\n",
       "neg       0.0800\n",
       "neu       0.8410\n",
       "pos       0.0790\n",
       "compound -0.0083"
      ]
     },
     "execution_count": 73,
     "metadata": {},
     "output_type": "execute_result"
    }
   ],
   "source": [
    "# test it out on first comment\n",
    "def sentiment_analyzer_scores(comment):\n",
    "    score = analyzer.polarity_scores(comment)\n",
    "    return(pd.DataFrame.from_dict(score, orient='index'))\n",
    "\n",
    "sentiment_analyzer_scores(reviews_en['comments'][1026])\n"
   ]
  },
  {
   "cell_type": "code",
   "execution_count": 34,
   "id": "a47e7479",
   "metadata": {},
   "outputs": [],
   "source": [
    "# we want one overall polarity score, so just look at the 'compound' score\n",
    "polarity_compound = lambda s: (analyzer.polarity_scores(s))['compound']"
   ]
  },
  {
   "cell_type": "code",
   "execution_count": 75,
   "id": "3554daf6",
   "metadata": {},
   "outputs": [],
   "source": [
    "# Apply the lambda function to the 'comments' column of the 'reviews_en' dataframe\n",
    "reviews_en['polarity_sentiment'] = reviews_en.comments.map(polarity_compound)"
   ]
  },
  {
   "cell_type": "code",
   "execution_count": 76,
   "id": "f18c264b",
   "metadata": {},
   "outputs": [
    {
     "data": {
      "text/html": [
       "<style type=\"text/css\">\n",
       "#T_b2136_row0_col8 {\n",
       "  width: 10em;\n",
       "  background: linear-gradient(90deg, #5fba7d 98.2%, transparent 98.2%);\n",
       "}\n",
       "#T_b2136_row1_col8 {\n",
       "  width: 10em;\n",
       "  background: linear-gradient(90deg, #5fba7d 92.7%, transparent 92.7%);\n",
       "}\n",
       "#T_b2136_row2_col8 {\n",
       "  width: 10em;\n",
       "  background: linear-gradient(90deg, #5fba7d 87.7%, transparent 87.7%);\n",
       "}\n",
       "#T_b2136_row3_col8 {\n",
       "  width: 10em;\n",
       "  background: linear-gradient(90deg, #5fba7d 97.4%, transparent 97.4%);\n",
       "}\n",
       "#T_b2136_row4_col8 {\n",
       "  width: 10em;\n",
       "  background: linear-gradient(90deg, #5fba7d 100.0%, transparent 100.0%);\n",
       "}\n",
       "</style>\n",
       "<table id=\"T_b2136\">\n",
       "  <thead>\n",
       "    <tr>\n",
       "      <th class=\"blank level0\" >&nbsp;</th>\n",
       "      <th id=\"T_b2136_level0_col0\" class=\"col_heading level0 col0\" >listing_id</th>\n",
       "      <th id=\"T_b2136_level0_col1\" class=\"col_heading level0 col1\" >id</th>\n",
       "      <th id=\"T_b2136_level0_col2\" class=\"col_heading level0 col2\" >date</th>\n",
       "      <th id=\"T_b2136_level0_col3\" class=\"col_heading level0 col3\" >reviewer_id</th>\n",
       "      <th id=\"T_b2136_level0_col4\" class=\"col_heading level0 col4\" >reviewer_name</th>\n",
       "      <th id=\"T_b2136_level0_col5\" class=\"col_heading level0 col5\" >comments</th>\n",
       "      <th id=\"T_b2136_level0_col6\" class=\"col_heading level0 col6\" >language</th>\n",
       "      <th id=\"T_b2136_level0_col7\" class=\"col_heading level0 col7\" >polarity</th>\n",
       "      <th id=\"T_b2136_level0_col8\" class=\"col_heading level0 col8\" >polarity_sentiment</th>\n",
       "    </tr>\n",
       "  </thead>\n",
       "  <tbody>\n",
       "    <tr>\n",
       "      <th id=\"T_b2136_level0_row0\" class=\"row_heading level0 row0\" >0</th>\n",
       "      <td id=\"T_b2136_row0_col0\" class=\"data row0 col0\" >3191</td>\n",
       "      <td id=\"T_b2136_row0_col1\" class=\"data row0 col1\" >4888238.000000</td>\n",
       "      <td id=\"T_b2136_row0_col2\" class=\"data row0 col2\" >5/31/2013</td>\n",
       "      <td id=\"T_b2136_row0_col3\" class=\"data row0 col3\" >5737473</td>\n",
       "      <td id=\"T_b2136_row0_col4\" class=\"data row0 col4\" >Kathleen</td>\n",
       "      <td id=\"T_b2136_row0_col5\" class=\"data row0 col5\" >Great home away from home! Bridgette and Martha were wonderful! I would recommend this place for couples, friends or family! </td>\n",
       "      <td id=\"T_b2136_row0_col6\" class=\"data row0 col6\" >en</td>\n",
       "      <td id=\"T_b2136_row0_col7\" class=\"data row0 col7\" >0.935700</td>\n",
       "      <td id=\"T_b2136_row0_col8\" class=\"data row0 col8\" >0.935700</td>\n",
       "    </tr>\n",
       "    <tr>\n",
       "      <th id=\"T_b2136_level0_row1\" class=\"row_heading level0 row1\" >2</th>\n",
       "      <td id=\"T_b2136_row1_col0\" class=\"data row1 col0\" >3191</td>\n",
       "      <td id=\"T_b2136_row1_col1\" class=\"data row1 col1\" >9924130.000000</td>\n",
       "      <td id=\"T_b2136_row1_col2\" class=\"data row1 col2\" >1/20/2014</td>\n",
       "      <td id=\"T_b2136_row1_col3\" class=\"data row1 col3\" >4039279</td>\n",
       "      <td id=\"T_b2136_row1_col4\" class=\"data row1 col4\" >Zacki</td>\n",
       "      <td id=\"T_b2136_row1_col5\" class=\"data row1 col5\" >This cottage was a great base from which to explore the amazing city of Cape Town! It's well equipped so I felt right at home. Brigitte was an attentive, organised host and helped make my stay memorable.</td>\n",
       "      <td id=\"T_b2136_row1_col6\" class=\"data row1 col6\" >en</td>\n",
       "      <td id=\"T_b2136_row1_col7\" class=\"data row1 col7\" >0.883200</td>\n",
       "      <td id=\"T_b2136_row1_col8\" class=\"data row1 col8\" >0.883200</td>\n",
       "    </tr>\n",
       "    <tr>\n",
       "      <th id=\"T_b2136_level0_row2\" class=\"row_heading level0 row2\" >3</th>\n",
       "      <td id=\"T_b2136_row2_col0\" class=\"data row2 col0\" >3191</td>\n",
       "      <td id=\"T_b2136_row2_col1\" class=\"data row2 col1\" >16659537.000000</td>\n",
       "      <td id=\"T_b2136_row2_col2\" class=\"data row2 col2\" >7/31/2014</td>\n",
       "      <td id=\"T_b2136_row2_col3\" class=\"data row2 col3\" >9729939</td>\n",
       "      <td id=\"T_b2136_row2_col4\" class=\"data row2 col4\" >Doug</td>\n",
       "      <td id=\"T_b2136_row2_col5\" class=\"data row2 col5\" >I had a great stay.  All my needs were well exceeded with warm-hearted hospitality.  Would definitely stay here again.</td>\n",
       "      <td id=\"T_b2136_row2_col6\" class=\"data row2 col6\" >en</td>\n",
       "      <td id=\"T_b2136_row2_col7\" class=\"data row2 col7\" >0.836000</td>\n",
       "      <td id=\"T_b2136_row2_col8\" class=\"data row2 col8\" >0.836000</td>\n",
       "    </tr>\n",
       "    <tr>\n",
       "      <th id=\"T_b2136_level0_row3\" class=\"row_heading level0 row3\" >4</th>\n",
       "      <td id=\"T_b2136_row3_col0\" class=\"data row3 col0\" >3191</td>\n",
       "      <td id=\"T_b2136_row3_col1\" class=\"data row3 col1\" >23247470.000000</td>\n",
       "      <td id=\"T_b2136_row3_col2\" class=\"data row3 col2\" >11/26/2014</td>\n",
       "      <td id=\"T_b2136_row3_col3\" class=\"data row3 col3\" >9681619</td>\n",
       "      <td id=\"T_b2136_row3_col4\" class=\"data row3 col4\" >Christopher</td>\n",
       "      <td id=\"T_b2136_row3_col5\" class=\"data row3 col5\" >Excellent host. She provided everything we could think of during our stay.  The cottage is lovely and clean and very tranquil. I would definitely stay here again. </td>\n",
       "      <td id=\"T_b2136_row3_col6\" class=\"data row3 col6\" >en</td>\n",
       "      <td id=\"T_b2136_row3_col7\" class=\"data row3 col7\" >0.928100</td>\n",
       "      <td id=\"T_b2136_row3_col8\" class=\"data row3 col8\" >0.928100</td>\n",
       "    </tr>\n",
       "    <tr>\n",
       "      <th id=\"T_b2136_level0_row4\" class=\"row_heading level0 row4\" >6</th>\n",
       "      <td id=\"T_b2136_row4_col0\" class=\"data row4 col0\" >3191</td>\n",
       "      <td id=\"T_b2136_row4_col1\" class=\"data row4 col1\" >34203620.000000</td>\n",
       "      <td id=\"T_b2136_row4_col2\" class=\"data row4 col2\" >6/6/2015</td>\n",
       "      <td id=\"T_b2136_row4_col3\" class=\"data row4 col3\" >30266918</td>\n",
       "      <td id=\"T_b2136_row4_col4\" class=\"data row4 col4\" >Thomas</td>\n",
       "      <td id=\"T_b2136_row4_col5\" class=\"data row4 col5\" >This was the perfect guest home for me to stay in whilst I was searching for a permanent home following a job transfer to Cape Town.\r<br/>Brigitte was warm and welcoming and made me feel at home.\r<br/>If you are looking for a nice play to explore Cape Town and the surrounding areas then I would definitely recommend this place!</td>\n",
       "      <td id=\"T_b2136_row4_col6\" class=\"data row4 col6\" >en</td>\n",
       "      <td id=\"T_b2136_row4_col7\" class=\"data row4 col7\" >0.953100</td>\n",
       "      <td id=\"T_b2136_row4_col8\" class=\"data row4 col8\" >0.953100</td>\n",
       "    </tr>\n",
       "  </tbody>\n",
       "</table>\n"
      ],
      "text/plain": [
       "<pandas.io.formats.style.Styler at 0x2733f3f0eb0>"
      ]
     },
     "execution_count": 76,
     "metadata": {},
     "output_type": "execute_result"
    }
   ],
   "source": [
    "reviews_en[:5].style.bar(subset=['polarity_sentiment'], align='mid', color=['#d65f5f', '#5fba7d'])"
   ]
  },
  {
   "cell_type": "code",
   "execution_count": 78,
   "id": "77c771b8",
   "metadata": {},
   "outputs": [
    {
     "data": {
      "text/html": [
       "<style type=\"text/css\">\n",
       "#T_b8c0c_row0_col8 {\n",
       "  width: 10em;\n",
       "  background: linear-gradient(90deg, #d65f5f 100.0%, transparent 100.0%);\n",
       "}\n",
       "#T_b8c0c_row1_col8 {\n",
       "  width: 10em;\n",
       "  background: linear-gradient(90deg, transparent 42.8%, #d65f5f 42.8%, #d65f5f 100.0%, transparent 100.0%);\n",
       "}\n",
       "#T_b8c0c_row2_col8 {\n",
       "  width: 10em;\n",
       "  background: linear-gradient(90deg, transparent 45.4%, #d65f5f 45.4%, #d65f5f 100.0%, transparent 100.0%);\n",
       "}\n",
       "#T_b8c0c_row3_col8 {\n",
       "  width: 10em;\n",
       "  background: linear-gradient(90deg, transparent 0.8%, #d65f5f 0.8%, #d65f5f 100.0%, transparent 100.0%);\n",
       "}\n",
       "#T_b8c0c_row4_col8 {\n",
       "  width: 10em;\n",
       "  background: linear-gradient(90deg, transparent 98.1%, #d65f5f 98.1%, #d65f5f 100.0%, transparent 100.0%);\n",
       "}\n",
       "</style>\n",
       "<table id=\"T_b8c0c\">\n",
       "  <thead>\n",
       "    <tr>\n",
       "      <th class=\"blank level0\" >&nbsp;</th>\n",
       "      <th id=\"T_b8c0c_level0_col0\" class=\"col_heading level0 col0\" >listing_id</th>\n",
       "      <th id=\"T_b8c0c_level0_col1\" class=\"col_heading level0 col1\" >id</th>\n",
       "      <th id=\"T_b8c0c_level0_col2\" class=\"col_heading level0 col2\" >date</th>\n",
       "      <th id=\"T_b8c0c_level0_col3\" class=\"col_heading level0 col3\" >reviewer_id</th>\n",
       "      <th id=\"T_b8c0c_level0_col4\" class=\"col_heading level0 col4\" >reviewer_name</th>\n",
       "      <th id=\"T_b8c0c_level0_col5\" class=\"col_heading level0 col5\" >comments</th>\n",
       "      <th id=\"T_b8c0c_level0_col6\" class=\"col_heading level0 col6\" >language</th>\n",
       "      <th id=\"T_b8c0c_level0_col7\" class=\"col_heading level0 col7\" >polarity</th>\n",
       "      <th id=\"T_b8c0c_level0_col8\" class=\"col_heading level0 col8\" >polarity_sentiment</th>\n",
       "    </tr>\n",
       "  </thead>\n",
       "  <tbody>\n",
       "    <tr>\n",
       "      <th id=\"T_b8c0c_level0_row0\" class=\"row_heading level0 row0\" >89</th>\n",
       "      <td id=\"T_b8c0c_row0_col0\" class=\"data row0 col0\" >283053</td>\n",
       "      <td id=\"T_b8c0c_row0_col1\" class=\"data row0 col1\" >8482308.000000</td>\n",
       "      <td id=\"T_b8c0c_row0_col2\" class=\"data row0 col2\" >11/2/2013</td>\n",
       "      <td id=\"T_b8c0c_row0_col3\" class=\"data row0 col3\" >60473</td>\n",
       "      <td id=\"T_b8c0c_row0_col4\" class=\"data row0 col4\" >Madeleine</td>\n",
       "      <td id=\"T_b8c0c_row0_col5\" class=\"data row0 col5\" >We stayed in the Main floor apartment for   days. The apartment is very spacious and well equipped. \r<br/>\r<br/>The location is good for exploring downtown Cape Town and the Waterfront and is also close to Sea Point.  Having a car is definitely handy but there are restaurants, shops and bars within walking distance and we had no problem calling taxis when we needed them.</td>\n",
       "      <td id=\"T_b8c0c_row0_col6\" class=\"data row0 col6\" >en</td>\n",
       "      <td id=\"T_b8c0c_row0_col7\" class=\"data row0 col7\" >-0.434500</td>\n",
       "      <td id=\"T_b8c0c_row0_col8\" class=\"data row0 col8\" >-0.434500</td>\n",
       "    </tr>\n",
       "    <tr>\n",
       "      <th id=\"T_b8c0c_level0_row1\" class=\"row_heading level0 row1\" >190</th>\n",
       "      <td id=\"T_b8c0c_row1_col0\" class=\"data row1 col0\" >800546</td>\n",
       "      <td id=\"T_b8c0c_row1_col1\" class=\"data row1 col1\" >26772039.000000</td>\n",
       "      <td id=\"T_b8c0c_row1_col2\" class=\"data row1 col2\" >2/19/2015</td>\n",
       "      <td id=\"T_b8c0c_row1_col3\" class=\"data row1 col3\" >10857358</td>\n",
       "      <td id=\"T_b8c0c_row1_col4\" class=\"data row1 col4\" >Ivan</td>\n",
       "      <td id=\"T_b8c0c_row1_col5\" class=\"data row1 col5\" >I stayed at Glen Beach Villa, Apartment  ,  for   nights in February  .\r<br/>\r<br/>The apartment is modern, bright and airy and is as described by the host\r<br/>\r<br/>Camps Bay in general is a fantastic place to stay when visiting Cape Town and the Glen Beach Villas are nicely situated within Camps Bay being withing walking distance of all the amenities in the area\r<br/>\r<br/>Being so close to everything, however, does have a drawback in that the apartments are situated right on Victoria Road .... the main road in and out of Camps Bay...and it is very busy and very noisy\r<br/>\r<br/>We live in a very very quite suburb in Australia and so we did find the traffic noise disturbing at times and often had the sliding doors closed which helped a lot. Other tenants we noticed did not seem to be perturbed so you would have to make your own mind on this one negative factor when considering this property\r<br/>\r<br/></td>\n",
       "      <td id=\"T_b8c0c_row1_col6\" class=\"data row1 col6\" >en</td>\n",
       "      <td id=\"T_b8c0c_row1_col7\" class=\"data row1 col7\" >-0.248400</td>\n",
       "      <td id=\"T_b8c0c_row1_col8\" class=\"data row1 col8\" >-0.248400</td>\n",
       "    </tr>\n",
       "    <tr>\n",
       "      <th id=\"T_b8c0c_level0_row2\" class=\"row_heading level0 row2\" >274</th>\n",
       "      <td id=\"T_b8c0c_row2_col0\" class=\"data row2 col0\" >15480</td>\n",
       "      <td id=\"T_b8c0c_row2_col1\" class=\"data row2 col1\" >9799711.000000</td>\n",
       "      <td id=\"T_b8c0c_row2_col2\" class=\"data row2 col2\" >1/11/2014</td>\n",
       "      <td id=\"T_b8c0c_row2_col3\" class=\"data row2 col3\" >9631449</td>\n",
       "      <td id=\"T_b8c0c_row2_col4\" class=\"data row2 col4\" >Richard</td>\n",
       "      <td id=\"T_b8c0c_row2_col5\" class=\"data row2 col5\" >The apartment was in a great location close to all the local sights and a very good Coffee shop \"Truth\" just down the road!\r<br/>The pool on the roof was great and the Gym came in very handy (best life cycle view ever)\r<br/>The only criticism would be no view as illegal building put up directly next to apartment so you see barbed wire and concrete. Also slight problem with Cockroaches in kitchen. \r<br/>No wifi available which was a pain. Could use a Dongle on PC but nothing on mobile.</td>\n",
       "      <td id=\"T_b8c0c_row2_col6\" class=\"data row2 col6\" >en</td>\n",
       "      <td id=\"T_b8c0c_row2_col7\" class=\"data row2 col7\" >-0.237200</td>\n",
       "      <td id=\"T_b8c0c_row2_col8\" class=\"data row2 col8\" >-0.237200</td>\n",
       "    </tr>\n",
       "    <tr>\n",
       "      <th id=\"T_b8c0c_level0_row3\" class=\"row_heading level0 row3\" >612</th>\n",
       "      <td id=\"T_b8c0c_row3_col0\" class=\"data row3 col0\" >19271</td>\n",
       "      <td id=\"T_b8c0c_row3_col1\" class=\"data row3 col1\" >672875934.000000</td>\n",
       "      <td id=\"T_b8c0c_row3_col2\" class=\"data row3 col2\" >10/10/2020</td>\n",
       "      <td id=\"T_b8c0c_row3_col3\" class=\"data row3 col3\" >363039461</td>\n",
       "      <td id=\"T_b8c0c_row3_col4\" class=\"data row3 col4\" >Takalani</td>\n",
       "      <td id=\"T_b8c0c_row3_col5\" class=\"data row3 col5\" >The place is beautiful, but we had a serious miscommunication with the host and she was a bit harsh.</td>\n",
       "      <td id=\"T_b8c0c_row3_col6\" class=\"data row3 col6\" >en</td>\n",
       "      <td id=\"T_b8c0c_row3_col7\" class=\"data row3 col7\" >-0.431000</td>\n",
       "      <td id=\"T_b8c0c_row3_col8\" class=\"data row3 col8\" >-0.431000</td>\n",
       "    </tr>\n",
       "    <tr>\n",
       "      <th id=\"T_b8c0c_level0_row4\" class=\"row_heading level0 row4\" >1026</th>\n",
       "      <td id=\"T_b8c0c_row4_col0\" class=\"data row4 col0\" >811611</td>\n",
       "      <td id=\"T_b8c0c_row4_col1\" class=\"data row4 col1\" >22019719.000000</td>\n",
       "      <td id=\"T_b8c0c_row4_col2\" class=\"data row4 col2\" >10/28/2014</td>\n",
       "      <td id=\"T_b8c0c_row4_col3\" class=\"data row4 col3\" >18027344</td>\n",
       "      <td id=\"T_b8c0c_row4_col4\" class=\"data row4 col4\" >Matthias</td>\n",
       "      <td id=\"T_b8c0c_row4_col5\" class=\"data row4 col5\" >At first many thanks to Ursula.<br/>It was the starting point of our travel an the place was just perfect.<br/>The place is very central so we could reach downtown and the waterfront without car.(very helpful when you are not familiar with left-hand driving)<br/>Ursula was always very helpful even after our stay we can contact her for hints for travelling and sightseeing.<br/>And her knowledge of Cape Town and the Garden Route was very helpful for us.<br/>We will definitely come back to you.</td>\n",
       "      <td id=\"T_b8c0c_row4_col6\" class=\"data row4 col6\" >en</td>\n",
       "      <td id=\"T_b8c0c_row4_col7\" class=\"data row4 col7\" >-0.008300</td>\n",
       "      <td id=\"T_b8c0c_row4_col8\" class=\"data row4 col8\" >-0.008300</td>\n",
       "    </tr>\n",
       "  </tbody>\n",
       "</table>\n"
      ],
      "text/plain": [
       "<pandas.io.formats.style.Styler at 0x2733f4c9280>"
      ]
     },
     "execution_count": 78,
     "metadata": {},
     "output_type": "execute_result"
    }
   ],
   "source": [
    "reviews_en[reviews_en['polarity_sentiment']<0][:5].style.bar(subset=['polarity_sentiment'], align='mid', color=['#d65f5f', '#5fba7d'])"
   ]
  },
  {
   "cell_type": "code",
   "execution_count": 79,
   "id": "a7ed4930",
   "metadata": {
    "scrolled": true
   },
   "outputs": [
    {
     "name": "stderr",
     "output_type": "stream",
     "text": [
      "c:\\Users\\ADMIN\\anaconda3\\lib\\site-packages\\seaborn\\distributions.py:2619: FutureWarning: `distplot` is a deprecated function and will be removed in a future version. Please adapt your code to use either `displot` (a figure-level function with similar flexibility) or `histplot` (an axes-level function for histograms).\n",
      "  warnings.warn(msg, FutureWarning)\n"
     ]
    },
    {
     "data": {
      "image/png": "[encoded data removed]",
      "text/plain": [
       "<Figure size 432x288 with 1 Axes>"
      ]
     },
     "metadata": {
      "needs_background": "light"
     },
     "output_type": "display_data"
    }
   ],
   "source": [
    "sns.distplot(reviews_en['polarity_sentiment'], norm_hist=True, color='g')\n",
    "plt.title('Distribution of sentiment polarity');"
   ]
  },
  {
   "cell_type": "markdown",
   "id": "e13829e4",
   "metadata": {},
   "source": [
    "# Build recommendation engine"
   ]
  },
  {
   "cell_type": "code",
   "execution_count": 41,
   "id": "ba12b3d0",
   "metadata": {},
   "outputs": [],
   "source": [
    "df_rec = reviews_en[['reviewer_id', 'listing_id', 'polarity']]"
   ]
  },
  {
   "cell_type": "code",
   "execution_count": 42,
   "id": "68f8b8b7",
   "metadata": {
    "scrolled": true
   },
   "outputs": [
    {
     "data": {
      "text/plain": [
       "reviewer_id    11878\n",
       "listing_id       283\n",
       "polarity        1959\n",
       "dtype: int64"
      ]
     },
     "execution_count": 42,
     "metadata": {},
     "output_type": "execute_result"
    }
   ],
   "source": [
    "df_rec.nunique()"
   ]
  },
  {
   "cell_type": "code",
   "execution_count": 43,
   "id": "99f3f4c1",
   "metadata": {},
   "outputs": [
    {
     "data": {
      "text/html": [
       "<div>\n",
       "<style scoped>\n",
       "    .dataframe tbody tr th:only-of-type {\n",
       "        vertical-align: middle;\n",
       "    }\n",
       "\n",
       "    .dataframe tbody tr th {\n",
       "        vertical-align: top;\n",
       "    }\n",
       "\n",
       "    .dataframe thead th {\n",
       "        text-align: right;\n",
       "    }\n",
       "</style>\n",
       "<table border=\"1\" class=\"dataframe\">\n",
       "  <thead>\n",
       "    <tr style=\"text-align: right;\">\n",
       "      <th></th>\n",
       "      <th>reviewer_id</th>\n",
       "      <th>listing_id</th>\n",
       "      <th>polarity</th>\n",
       "    </tr>\n",
       "  </thead>\n",
       "  <tbody>\n",
       "    <tr>\n",
       "      <th>0</th>\n",
       "      <td>5737473</td>\n",
       "      <td>3191</td>\n",
       "      <td>0.9357</td>\n",
       "    </tr>\n",
       "    <tr>\n",
       "      <th>2</th>\n",
       "      <td>4039279</td>\n",
       "      <td>3191</td>\n",
       "      <td>0.8832</td>\n",
       "    </tr>\n",
       "    <tr>\n",
       "      <th>3</th>\n",
       "      <td>9729939</td>\n",
       "      <td>3191</td>\n",
       "      <td>0.8360</td>\n",
       "    </tr>\n",
       "    <tr>\n",
       "      <th>4</th>\n",
       "      <td>9681619</td>\n",
       "      <td>3191</td>\n",
       "      <td>0.9281</td>\n",
       "    </tr>\n",
       "    <tr>\n",
       "      <th>6</th>\n",
       "      <td>30266918</td>\n",
       "      <td>3191</td>\n",
       "      <td>0.9531</td>\n",
       "    </tr>\n",
       "    <tr>\n",
       "      <th>...</th>\n",
       "      <td>...</td>\n",
       "      <td>...</td>\n",
       "      <td>...</td>\n",
       "    </tr>\n",
       "    <tr>\n",
       "      <th>13541</th>\n",
       "      <td>6695043</td>\n",
       "      <td>2037869</td>\n",
       "      <td>0.9588</td>\n",
       "    </tr>\n",
       "    <tr>\n",
       "      <th>13542</th>\n",
       "      <td>57739362</td>\n",
       "      <td>2037869</td>\n",
       "      <td>0.9770</td>\n",
       "    </tr>\n",
       "    <tr>\n",
       "      <th>13543</th>\n",
       "      <td>20256866</td>\n",
       "      <td>2037869</td>\n",
       "      <td>0.9508</td>\n",
       "    </tr>\n",
       "    <tr>\n",
       "      <th>13545</th>\n",
       "      <td>8843478</td>\n",
       "      <td>2037869</td>\n",
       "      <td>0.9259</td>\n",
       "    </tr>\n",
       "    <tr>\n",
       "      <th>13546</th>\n",
       "      <td>20779566</td>\n",
       "      <td>2037869</td>\n",
       "      <td>0.9918</td>\n",
       "    </tr>\n",
       "  </tbody>\n",
       "</table>\n",
       "<p>12335 rows × 3 columns</p>\n",
       "</div>"
      ],
      "text/plain": [
       "       reviewer_id  listing_id  polarity\n",
       "0          5737473        3191    0.9357\n",
       "2          4039279        3191    0.8832\n",
       "3          9729939        3191    0.8360\n",
       "4          9681619        3191    0.9281\n",
       "6         30266918        3191    0.9531\n",
       "...            ...         ...       ...\n",
       "13541      6695043     2037869    0.9588\n",
       "13542     57739362     2037869    0.9770\n",
       "13543     20256866     2037869    0.9508\n",
       "13545      8843478     2037869    0.9259\n",
       "13546     20779566     2037869    0.9918\n",
       "\n",
       "[12335 rows x 3 columns]"
      ]
     },
     "execution_count": 43,
     "metadata": {},
     "output_type": "execute_result"
    }
   ],
   "source": [
    "df_rec"
   ]
  },
  {
   "cell_type": "markdown",
   "id": "8943bd15",
   "metadata": {},
   "source": [
    "There’s a key processing step we need to take before we can use our dataset for SVD: transform it into a utility matrix! A utility matrix is essentially a pivot of our 3 column dataset (reviewer_id, listing_id, polarity) into a sparse n x m table, where the axes correspond to our reviewer_id and listing_id columns, and the table is populated with polarity values for known reviewer_id/listing_id pairs and NaN if unknown. We can generate this table super easily with panda’s pivot_table function.\n"
   ]
  },
  {
   "cell_type": "markdown",
   "id": "8fc4f950",
   "metadata": {},
   "source": [
    "A utility matrix, also known as a user-item matrix, is a data structure used in recommender systems to represent the interaction between users and items. In a utility matrix, the rows correspond to the users, the columns correspond to the items, and the cells contain some measure of the user's interaction with the item, such as a rating or a binary indicator of whether the user has interacted with the item.\n",
    "\n",
    "The utility matrix is a fundamental data structure in collaborative filtering-based recommender systems, which leverage the behavior of other users to make recommendations. "
   ]
  },
  {
   "cell_type": "code",
   "execution_count": 44,
   "id": "c612fd28",
   "metadata": {},
   "outputs": [
    {
     "data": {
      "text/html": [
       "<div>\n",
       "<style scoped>\n",
       "    .dataframe tbody tr th:only-of-type {\n",
       "        vertical-align: middle;\n",
       "    }\n",
       "\n",
       "    .dataframe tbody tr th {\n",
       "        vertical-align: top;\n",
       "    }\n",
       "\n",
       "    .dataframe thead th {\n",
       "        text-align: right;\n",
       "    }\n",
       "</style>\n",
       "<table border=\"1\" class=\"dataframe\">\n",
       "  <thead>\n",
       "    <tr style=\"text-align: right;\">\n",
       "      <th>listing_id</th>\n",
       "      <th>3191</th>\n",
       "      <th>15007</th>\n",
       "      <th>15077</th>\n",
       "      <th>15199</th>\n",
       "      <th>15285</th>\n",
       "      <th>15480</th>\n",
       "      <th>15704</th>\n",
       "      <th>16259</th>\n",
       "      <th>19271</th>\n",
       "      <th>19384</th>\n",
       "      <th>...</th>\n",
       "      <th>2381610</th>\n",
       "      <th>2387735</th>\n",
       "      <th>2401492</th>\n",
       "      <th>2402624</th>\n",
       "      <th>2422808</th>\n",
       "      <th>2433060</th>\n",
       "      <th>2434360</th>\n",
       "      <th>2442614</th>\n",
       "      <th>2442838</th>\n",
       "      <th>2446152</th>\n",
       "    </tr>\n",
       "    <tr>\n",
       "      <th>reviewer_id</th>\n",
       "      <th></th>\n",
       "      <th></th>\n",
       "      <th></th>\n",
       "      <th></th>\n",
       "      <th></th>\n",
       "      <th></th>\n",
       "      <th></th>\n",
       "      <th></th>\n",
       "      <th></th>\n",
       "      <th></th>\n",
       "      <th></th>\n",
       "      <th></th>\n",
       "      <th></th>\n",
       "      <th></th>\n",
       "      <th></th>\n",
       "      <th></th>\n",
       "      <th></th>\n",
       "      <th></th>\n",
       "      <th></th>\n",
       "      <th></th>\n",
       "      <th></th>\n",
       "    </tr>\n",
       "  </thead>\n",
       "  <tbody>\n",
       "    <tr>\n",
       "      <th>3144</th>\n",
       "      <td>NaN</td>\n",
       "      <td>NaN</td>\n",
       "      <td>NaN</td>\n",
       "      <td>NaN</td>\n",
       "      <td>NaN</td>\n",
       "      <td>NaN</td>\n",
       "      <td>NaN</td>\n",
       "      <td>NaN</td>\n",
       "      <td>NaN</td>\n",
       "      <td>NaN</td>\n",
       "      <td>...</td>\n",
       "      <td>NaN</td>\n",
       "      <td>NaN</td>\n",
       "      <td>NaN</td>\n",
       "      <td>NaN</td>\n",
       "      <td>NaN</td>\n",
       "      <td>NaN</td>\n",
       "      <td>NaN</td>\n",
       "      <td>NaN</td>\n",
       "      <td>NaN</td>\n",
       "      <td>NaN</td>\n",
       "    </tr>\n",
       "    <tr>\n",
       "      <th>6282</th>\n",
       "      <td>NaN</td>\n",
       "      <td>NaN</td>\n",
       "      <td>NaN</td>\n",
       "      <td>NaN</td>\n",
       "      <td>NaN</td>\n",
       "      <td>NaN</td>\n",
       "      <td>NaN</td>\n",
       "      <td>NaN</td>\n",
       "      <td>NaN</td>\n",
       "      <td>NaN</td>\n",
       "      <td>...</td>\n",
       "      <td>NaN</td>\n",
       "      <td>NaN</td>\n",
       "      <td>NaN</td>\n",
       "      <td>NaN</td>\n",
       "      <td>NaN</td>\n",
       "      <td>NaN</td>\n",
       "      <td>NaN</td>\n",
       "      <td>NaN</td>\n",
       "      <td>NaN</td>\n",
       "      <td>NaN</td>\n",
       "    </tr>\n",
       "    <tr>\n",
       "      <th>7145</th>\n",
       "      <td>NaN</td>\n",
       "      <td>NaN</td>\n",
       "      <td>NaN</td>\n",
       "      <td>NaN</td>\n",
       "      <td>NaN</td>\n",
       "      <td>NaN</td>\n",
       "      <td>NaN</td>\n",
       "      <td>NaN</td>\n",
       "      <td>NaN</td>\n",
       "      <td>NaN</td>\n",
       "      <td>...</td>\n",
       "      <td>NaN</td>\n",
       "      <td>NaN</td>\n",
       "      <td>NaN</td>\n",
       "      <td>NaN</td>\n",
       "      <td>NaN</td>\n",
       "      <td>NaN</td>\n",
       "      <td>NaN</td>\n",
       "      <td>NaN</td>\n",
       "      <td>NaN</td>\n",
       "      <td>NaN</td>\n",
       "    </tr>\n",
       "    <tr>\n",
       "      <th>8830</th>\n",
       "      <td>NaN</td>\n",
       "      <td>NaN</td>\n",
       "      <td>NaN</td>\n",
       "      <td>NaN</td>\n",
       "      <td>NaN</td>\n",
       "      <td>NaN</td>\n",
       "      <td>NaN</td>\n",
       "      <td>NaN</td>\n",
       "      <td>NaN</td>\n",
       "      <td>NaN</td>\n",
       "      <td>...</td>\n",
       "      <td>NaN</td>\n",
       "      <td>NaN</td>\n",
       "      <td>NaN</td>\n",
       "      <td>NaN</td>\n",
       "      <td>NaN</td>\n",
       "      <td>NaN</td>\n",
       "      <td>NaN</td>\n",
       "      <td>NaN</td>\n",
       "      <td>NaN</td>\n",
       "      <td>NaN</td>\n",
       "    </tr>\n",
       "    <tr>\n",
       "      <th>13842</th>\n",
       "      <td>NaN</td>\n",
       "      <td>NaN</td>\n",
       "      <td>NaN</td>\n",
       "      <td>NaN</td>\n",
       "      <td>NaN</td>\n",
       "      <td>NaN</td>\n",
       "      <td>NaN</td>\n",
       "      <td>NaN</td>\n",
       "      <td>NaN</td>\n",
       "      <td>NaN</td>\n",
       "      <td>...</td>\n",
       "      <td>NaN</td>\n",
       "      <td>NaN</td>\n",
       "      <td>NaN</td>\n",
       "      <td>NaN</td>\n",
       "      <td>NaN</td>\n",
       "      <td>NaN</td>\n",
       "      <td>NaN</td>\n",
       "      <td>NaN</td>\n",
       "      <td>NaN</td>\n",
       "      <td>NaN</td>\n",
       "    </tr>\n",
       "  </tbody>\n",
       "</table>\n",
       "<p>5 rows × 283 columns</p>\n",
       "</div>"
      ],
      "text/plain": [
       "listing_id   3191     15007    15077    15199    15285    15480    15704    \\\n",
       "reviewer_id                                                                  \n",
       "3144             NaN      NaN      NaN      NaN      NaN      NaN      NaN   \n",
       "6282             NaN      NaN      NaN      NaN      NaN      NaN      NaN   \n",
       "7145             NaN      NaN      NaN      NaN      NaN      NaN      NaN   \n",
       "8830             NaN      NaN      NaN      NaN      NaN      NaN      NaN   \n",
       "13842            NaN      NaN      NaN      NaN      NaN      NaN      NaN   \n",
       "\n",
       "listing_id   16259    19271    19384    ...  2381610  2387735  2401492  \\\n",
       "reviewer_id                             ...                              \n",
       "3144             NaN      NaN      NaN  ...      NaN      NaN      NaN   \n",
       "6282             NaN      NaN      NaN  ...      NaN      NaN      NaN   \n",
       "7145             NaN      NaN      NaN  ...      NaN      NaN      NaN   \n",
       "8830             NaN      NaN      NaN  ...      NaN      NaN      NaN   \n",
       "13842            NaN      NaN      NaN  ...      NaN      NaN      NaN   \n",
       "\n",
       "listing_id   2402624  2422808  2433060  2434360  2442614  2442838  2446152  \n",
       "reviewer_id                                                                 \n",
       "3144             NaN      NaN      NaN      NaN      NaN      NaN      NaN  \n",
       "6282             NaN      NaN      NaN      NaN      NaN      NaN      NaN  \n",
       "7145             NaN      NaN      NaN      NaN      NaN      NaN      NaN  \n",
       "8830             NaN      NaN      NaN      NaN      NaN      NaN      NaN  \n",
       "13842            NaN      NaN      NaN      NaN      NaN      NaN      NaN  \n",
       "\n",
       "[5 rows x 283 columns]"
      ]
     },
     "execution_count": 44,
     "metadata": {},
     "output_type": "execute_result"
    }
   ],
   "source": [
    "# create utility matrix\n",
    "\n",
    "matrix = df_rec.pivot_table(index='reviewer_id', columns='listing_id', values='polarity')\n",
    "matrix.head()"
   ]
  },
  {
   "cell_type": "code",
   "execution_count": 45,
   "id": "bbb13b38",
   "metadata": {},
   "outputs": [],
   "source": [
    "# Extract the user IDs and item IDs from the index and column labels of the matrix\n",
    "userrows = list(matrix.index)\n",
    "itemcols = list(matrix.columns)\n",
    "\n",
    "# Create a dictionary mapping user IDs to their corresponding row index in the matrix\n",
    "users_index = {userrows[i]: i for i in range(len(userrows))}\n",
    "\n",
    "# Create a dictionary mapping item IDs to their corresponding column index in the matrix\n",
    "items_index = {itemcols[i]: i for i in range(len(itemcols))}\n"
   ]
  },
  {
   "cell_type": "markdown",
   "id": "5da44732",
   "metadata": {},
   "source": [
    "* The first line imports the SVD function from the scipy.sparse.linalg module.\n",
    "* The function recommend_predictions is defined that takes in a dataframe df_rec containing polarity values for known reviewer/listing pairs, and an integer k which represents the number of features to keep for SVD. The function will return a matrix of predicted polarity values for all possible (reviewer, listing) pairs.\n",
    "\n",
    "\n",
    "* This line creates a utility matrix from the input dataframe df_rec. The pivot_table() function is used to reshape the data such that the rows represent reviewers, the columns represent listings, and the values represent polarity scores.\n",
    "\n",
    "\n",
    "* These lines create dictionaries reviewer_index and listing_index that map reviewer and listing IDs to their corresponding row and column indices in the utility matrix.\n",
    "\n",
    "\n",
    "* These lines handle missing values (represented by NaNs) in the utility matrix by first creating a boolean mask indicating the locations of the NaNs. Then, a masked array is created using this mask, which replaces the NaNs with masked values. The mean value of each item is then computed across all reviewers to use for filling in the masked values. The utility matrix is then updated to replace the masked values with the item means. Finally, the mean is subtracted from each element of the filled utility matrix to create a demeaned utility matrix."
   ]
  },
  {
   "cell_type": "markdown",
   "id": "5023e972",
   "metadata": {},
   "source": [
    "# Option 1: use SVD"
   ]
  },
  {
   "cell_type": "code",
   "execution_count": 47,
   "id": "44104389",
   "metadata": {},
   "outputs": [],
   "source": [
    "from scipy.sparse.linalg import svds\n",
    "\n",
    "# this function also incorporates creating the utility matrix and keep track of reviewer and listing IDs\n",
    "\n",
    "def recommend_predictions(df_rec, k):\n",
    "    \"\"\"\n",
    "    :param df_rec: dataframe with polarity values for known reviewer/listing pairs\n",
    "    :param k: number of features to keep for SVD\n",
    "\n",
    "    returns the dataframe with predicted polarity values for all (user,item) pairs\n",
    "    \"\"\"\n",
    "    # get utility matrix\n",
    "    util_mat = df_rec.pivot_table(index='reviewer_id', columns='listing_id', values='polarity')\n",
    "\n",
    "    # keep track of reviewers and listings\n",
    "    reviewer_rows = list(util_mat.index)\n",
    "    reviewer_index = {reviewer_rows[i]: i for i in range(len(reviewer_rows))}\n",
    "    listing_cols = list(util_mat.columns)\n",
    "    listing_index = {listing_cols[i]: i for i in range(len(listing_cols))}\n",
    "\n",
    "    # mask NaN and remove means\n",
    "    mask = np.isnan(util_mat)\n",
    "    masked_arr = np.ma.masked_array(util_mat, mask)\n",
    "    item_means = np.mean(masked_arr, axis=0) \n",
    "    util_mat = masked_arr.filled(item_means)\n",
    "    means = np.tile(item_means, (util_mat.shape[0],1))\n",
    "    util_mat_demeaned = util_mat - means\n",
    "\n",
    "    # run SVD\n",
    "    U, sigma, Vt = svds(util_mat_demeaned, k = k)\n",
    "    sigma = np.diag(sigma)  \n",
    "    all_predicted_polarity = np.dot(np.dot(U, sigma), Vt) + means\n",
    "\n",
    "    return all_predicted_polarity, reviewer_index, listing_index"
   ]
  },
  {
   "cell_type": "markdown",
   "id": "6339a11f",
   "metadata": {},
   "source": [
    "*pred* is a numpy array of predicted polarity values for all (user, item) pairs. The recommend_predictions function creates a utility matrix from the input data, masks any missing values, removes means from the matrix, performs SVD on the de-meaned matrix, and reconstructs the matrix using the resulting U, sigma, and Vt matrices to obtain predicted polarity values for all user-item pairs."
   ]
  },
  {
   "cell_type": "code",
   "execution_count": 86,
   "id": "05b1576e",
   "metadata": {},
   "outputs": [],
   "source": [
    "pred,_,_ = recommend_predictions(df_rec, k=50)\n"
   ]
  },
  {
   "cell_type": "markdown",
   "id": "da7f984b",
   "metadata": {},
   "source": [
    "Ideally in most ML problems, train SVD on a training set (utility matrix) and evaluate on testing set. Problem is how to split it, ie test data can't have unseen users or listings (cold start), also harder the less observations there are of a particular reviewer/listing. Would need a blended approach, do collaborative filtering for test cases where users and items were part of training, and do content-based filtering for ex on unseen test cases.\n",
    "\n",
    "For now, evaluate on training data."
   ]
  },
  {
   "cell_type": "code",
   "execution_count": 87,
   "id": "04f197ae",
   "metadata": {},
   "outputs": [],
   "source": [
    "# evaluate on known reviewer-listing pairs\n",
    "\n",
    "this_pred = [] #to store the predicted ratings\n",
    "for i, row in df_rec.iterrows():\n",
    "    user = row['reviewer_id']\n",
    "    item = row['listing_id']\n",
    "    \n",
    "    try:\n",
    "        u_index = users_index[user]\n",
    "        if item in items_index:\n",
    "            i_index = items_index[item]\n",
    "            pred_rating = pred[u_index, i_index]\n",
    "        else:\n",
    "            pred_rating = np.mean(svdout[u_index, :])\n",
    "        this_pred.append(pred_rating)\n",
    "        \n",
    "    except:\n",
    "        print('error with user', user, 'at index', i)"
   ]
  },
  {
   "cell_type": "code",
   "execution_count": 53,
   "id": "34105515",
   "metadata": {},
   "outputs": [
    {
     "name": "stdout",
     "output_type": "stream",
     "text": [
      "0.11007299517071245\n"
     ]
    }
   ],
   "source": [
    "rmse = math.sqrt(mean_squared_error(df_rec['polarity'], this_pred))\n",
    "print(rmse)"
   ]
  },
  {
   "cell_type": "markdown",
   "id": "00288ab9",
   "metadata": {},
   "source": [
    "Hyperparam optimization: k, the number of features into which each user and movie will be resolved into"
   ]
  },
  {
   "cell_type": "code",
   "execution_count": 54,
   "id": "2f37c970",
   "metadata": {},
   "outputs": [
    {
     "name": "stdout",
     "output_type": "stream",
     "text": [
      "70 0.09138864492415058\n",
      "100 0.06754393906472864\n",
      "120 0.05409343189014257\n",
      "150 0.04041676058010341\n"
     ]
    }
   ],
   "source": [
    "# try different values of k\n",
    "\n",
    "no_of_features = [70, 100, 120, 150]\n",
    "rmse= []\n",
    "\n",
    "for k in no_of_features:\n",
    "    pred_out, _, _ = recommend_predictions(df_rec, k=k)\n",
    "    \n",
    "    this_pred = [] #to store the predicted ratings\n",
    "    for i, row in df_rec.iterrows():\n",
    "        user = row['reviewer_id']\n",
    "        item = row['listing_id']\n",
    "\n",
    "        try:\n",
    "            u_index = users_index[user]\n",
    "            if item in items_index:\n",
    "                i_index = items_index[item]\n",
    "                pred_rating = pred_out[u_index, i_index]\n",
    "            else:\n",
    "                pred_rating = np.mean(svdout[u_index, :])\n",
    "            this_pred.append(pred_rating)\n",
    "\n",
    "        except:\n",
    "            print('error with user', user, 'at index', i)\n",
    "            continue\n",
    "\n",
    "    rmse_i = math.sqrt(mean_squared_error(df_rec['polarity'], this_pred))\n",
    "    rmse.append(rmse_i)\n",
    "    \n",
    "    print(k, rmse_i)"
   ]
  },
  {
   "cell_type": "markdown",
   "id": "fd4a7f11",
   "metadata": {},
   "source": [
    "# getting the recommendation"
   ]
  },
  {
   "cell_type": "code",
   "execution_count": 83,
   "id": "c24476cd",
   "metadata": {},
   "outputs": [],
   "source": [
    "listing_id_array = df_rec['listing_id'].unique()\n",
    "\n",
    "def get_recommendations(predMat, reviewer, N):\n",
    "    \"\"\"\n",
    "    predMat: predicted matrix, svdout\n",
    "    reviewer: selected reviewer_id\n",
    "    N: top N recommendations\n",
    "    \n",
    "    return top N recommendations for specified user\n",
    "    \"\"\"\n",
    "    u_index = users_index[reviewer]\n",
    "    item_i = [items_index[listing_id_array[i]] for i in range(len(listing_id_array))]\n",
    "    \n",
    "    pred_user = [predMat[u_index, i_index] for i_index in item_i]\n",
    "    \n",
    "    d = {'listing_id': listing_id_array, 'predicted_polarity': pred_user}\n",
    "    user_rec = pd.DataFrame(data=d)\n",
    "    user_rec.sort_values(by=['predicted_polarity'], ascending=False, inplace=True)\n",
    "    user_rec.reset_index(inplace=True, drop=True)\n",
    "    \n",
    "    return user_rec[:N]"
   ]
  },
  {
   "cell_type": "code",
   "execution_count": 84,
   "id": "d759f3a1",
   "metadata": {},
   "outputs": [
    {
     "ename": "NameError",
     "evalue": "name 'svdout' is not defined",
     "output_type": "error",
     "traceback": [
      "\u001b[1;31m---------------------------------------------------------------------------\u001b[0m",
      "\u001b[1;31mNameError\u001b[0m                                 Traceback (most recent call last)",
      "\u001b[1;32mc:\\Users\\ADMIN\\Desktop\\colabo\\InsideAirbnb\\Sentiments_and_Modelling.ipynb Cell 62\u001b[0m in \u001b[0;36m<cell line: 3>\u001b[1;34m()\u001b[0m\n\u001b[0;32m      <a href='vscode-notebook-cell:/c%3A/Users/ADMIN/Desktop/colabo/InsideAirbnb/Sentiments_and_Modelling.ipynb#Y106sZmlsZQ%3D%3D?line=0'>1</a>\u001b[0m \u001b[39m# using mat from SVD method\u001b[39;00m\n\u001b[1;32m----> <a href='vscode-notebook-cell:/c%3A/Users/ADMIN/Desktop/colabo/InsideAirbnb/Sentiments_and_Modelling.ipynb#Y106sZmlsZQ%3D%3D?line=2'>3</a>\u001b[0m user_rec \u001b[39m=\u001b[39m get_recommendations(svdout, df_rec[\u001b[39m'\u001b[39m\u001b[39mreviewer_id\u001b[39m\u001b[39m'\u001b[39m][\u001b[39m0\u001b[39m], \u001b[39m10\u001b[39m)\n\u001b[0;32m      <a href='vscode-notebook-cell:/c%3A/Users/ADMIN/Desktop/colabo/InsideAirbnb/Sentiments_and_Modelling.ipynb#Y106sZmlsZQ%3D%3D?line=3'>4</a>\u001b[0m user_rec\u001b[39m.\u001b[39mstyle\u001b[39m.\u001b[39mbar(subset\u001b[39m=\u001b[39m[\u001b[39m'\u001b[39m\u001b[39mpredicted_polarity\u001b[39m\u001b[39m'\u001b[39m], align\u001b[39m=\u001b[39m\u001b[39m'\u001b[39m\u001b[39mmid\u001b[39m\u001b[39m'\u001b[39m, color\u001b[39m=\u001b[39m[\u001b[39m'\u001b[39m\u001b[39m#d65f5f\u001b[39m\u001b[39m'\u001b[39m, \u001b[39m'\u001b[39m\u001b[39m#5fba7d\u001b[39m\u001b[39m'\u001b[39m])\n",
      "\u001b[1;31mNameError\u001b[0m: name 'svdout' is not defined"
     ]
    }
   ],
   "source": [
    "# using mat from SVD method\n",
    "\n",
    "user_rec = get_recommendations(svdout, df_rec['reviewer_id'][0], 10)\n",
    "user_rec.style.bar(subset=['predicted_polarity'], align='mid', color=['#d65f5f', '#5fba7d'])"
   ]
  },
  {
   "cell_type": "code",
   "execution_count": null,
   "id": "5ddd893f",
   "metadata": {},
   "outputs": [],
   "source": []
  },
  {
   "cell_type": "code",
   "execution_count": null,
   "id": "3d5e9d21",
   "metadata": {},
   "outputs": [],
   "source": []
  },
  {
   "cell_type": "code",
   "execution_count": null,
   "id": "559cb223",
   "metadata": {},
   "outputs": [],
   "source": []
  }
 ],
 "metadata": {
  "kernelspec": {
   "display_name": "Python (spark-env)",
   "language": "python",
   "name": "spark-env"
  },
  "language_info": {
   "codemirror_mode": {
    "name": "ipython",
    "version": 3
   },
   "file_extension": ".py",
   "mimetype": "text/x-python",
   "name": "python",
   "nbconvert_exporter": "python",
   "pygments_lexer": "ipython3",
   "version": "3.9.12"
  }
 },
 "nbformat": 4,
 "nbformat_minor": 5
}
